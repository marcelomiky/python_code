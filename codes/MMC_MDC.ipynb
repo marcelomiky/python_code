{
 "cells": [
  {
   "cell_type": "markdown",
   "id": "57182f02",
   "metadata": {},
   "source": [
    "### Função para achar os divisores de um número inteiro:"
   ]
  },
  {
   "cell_type": "code",
   "execution_count": 1,
   "id": "4072063e",
   "metadata": {},
   "outputs": [],
   "source": [
    "def divisores(n):\n",
    "    \n",
    "    lista_divisores = [1]  # pois o 1 sempre será divisor\n",
    "    \n",
    "    for i in range(2, n-1):\n",
    "        if n % i == 0:\n",
    "            lista_divisores.append(i)\n",
    "    \n",
    "    lista_divisores.append(n) # pois o próprio número será divisor dele mesmo\n",
    "    \n",
    "    return lista_divisores"
   ]
  },
  {
   "cell_type": "code",
   "execution_count": 2,
   "id": "5089fb72",
   "metadata": {},
   "outputs": [
    {
     "data": {
      "text/plain": [
       "[1, 2, 5, 10]"
      ]
     },
     "execution_count": 2,
     "metadata": {},
     "output_type": "execute_result"
    }
   ],
   "source": [
    "divisores(10)"
   ]
  },
  {
   "cell_type": "code",
   "execution_count": 3,
   "id": "12de25f3",
   "metadata": {},
   "outputs": [
    {
     "data": {
      "text/plain": [
       "[1, 13]"
      ]
     },
     "execution_count": 3,
     "metadata": {},
     "output_type": "execute_result"
    }
   ],
   "source": [
    "divisores(13)"
   ]
  },
  {
   "cell_type": "code",
   "execution_count": 4,
   "id": "057690f6",
   "metadata": {},
   "outputs": [
    {
     "data": {
      "text/plain": [
       "[1, 3, 67, 201]"
      ]
     },
     "execution_count": 4,
     "metadata": {},
     "output_type": "execute_result"
    }
   ],
   "source": [
    "divisores(201)"
   ]
  },
  {
   "cell_type": "code",
   "execution_count": 5,
   "id": "6472d997",
   "metadata": {},
   "outputs": [
    {
     "data": {
      "text/plain": [
       "[1, 97]"
      ]
     },
     "execution_count": 5,
     "metadata": {},
     "output_type": "execute_result"
    }
   ],
   "source": [
    "divisores(97)"
   ]
  },
  {
   "cell_type": "code",
   "execution_count": null,
   "id": "2b4790e5",
   "metadata": {},
   "outputs": [],
   "source": []
  },
  {
   "cell_type": "markdown",
   "id": "68784e7f",
   "metadata": {},
   "source": [
    "### Máximo Divisor Comum"
   ]
  },
  {
   "cell_type": "code",
   "execution_count": 6,
   "id": "fe84ec7e",
   "metadata": {},
   "outputs": [],
   "source": [
    "def mdc(m, n):\n",
    "    \n",
    "    lista_divisores_m = divisores(m)\n",
    "    lista_divisores_n = divisores(n)\n",
    "    \n",
    "    intersection = list(set(lista_divisores_m) & set(lista_divisores_n))\n",
    "    \n",
    "    intersection.sort()\n",
    "       \n",
    "    return intersection[-1]    "
   ]
  },
  {
   "cell_type": "code",
   "execution_count": 7,
   "id": "5ebf7d6e",
   "metadata": {},
   "outputs": [
    {
     "data": {
      "text/plain": [
       "10"
      ]
     },
     "execution_count": 7,
     "metadata": {},
     "output_type": "execute_result"
    }
   ],
   "source": [
    "mdc(10, 20)"
   ]
  },
  {
   "cell_type": "code",
   "execution_count": 8,
   "id": "f49b8088",
   "metadata": {},
   "outputs": [
    {
     "data": {
      "text/plain": [
       "2"
      ]
     },
     "execution_count": 8,
     "metadata": {},
     "output_type": "execute_result"
    }
   ],
   "source": [
    "mdc(8, 10)"
   ]
  },
  {
   "cell_type": "code",
   "execution_count": 9,
   "id": "1c7baf38",
   "metadata": {},
   "outputs": [
    {
     "data": {
      "text/plain": [
       "1"
      ]
     },
     "execution_count": 9,
     "metadata": {},
     "output_type": "execute_result"
    }
   ],
   "source": [
    "mdc(3, 10)"
   ]
  },
  {
   "cell_type": "code",
   "execution_count": 10,
   "id": "0907e8b1",
   "metadata": {},
   "outputs": [
    {
     "data": {
      "text/plain": [
       "1"
      ]
     },
     "execution_count": 10,
     "metadata": {},
     "output_type": "execute_result"
    }
   ],
   "source": [
    "mdc(7, 13)"
   ]
  },
  {
   "cell_type": "code",
   "execution_count": 11,
   "id": "4c2d8444",
   "metadata": {},
   "outputs": [
    {
     "data": {
      "text/plain": [
       "2"
      ]
     },
     "execution_count": 11,
     "metadata": {},
     "output_type": "execute_result"
    }
   ],
   "source": [
    "mdc(100, 38)"
   ]
  },
  {
   "cell_type": "code",
   "execution_count": 12,
   "id": "8ce2f690",
   "metadata": {},
   "outputs": [
    {
     "data": {
      "text/plain": [
       "2"
      ]
     },
     "execution_count": 12,
     "metadata": {},
     "output_type": "execute_result"
    }
   ],
   "source": [
    "mdc(38, 100)"
   ]
  },
  {
   "cell_type": "code",
   "execution_count": null,
   "id": "1a21d704",
   "metadata": {},
   "outputs": [],
   "source": []
  },
  {
   "cell_type": "markdown",
   "id": "bb117e48",
   "metadata": {},
   "source": [
    "### Função que retorna True se um número é primo (divisível apenas por 1 e ele mesmo), False caso contrário"
   ]
  },
  {
   "cell_type": "code",
   "execution_count": 13,
   "id": "3e44e71b",
   "metadata": {},
   "outputs": [],
   "source": [
    "def is_prime(x):\n",
    "    n = 0\n",
    "    for i in range(1, x+1):\n",
    "        if x % i == 0:\n",
    "            n += 1\n",
    "    \n",
    "    if n > 2:\n",
    "        return False\n",
    "    else:\n",
    "        return True"
   ]
  },
  {
   "cell_type": "code",
   "execution_count": null,
   "id": "86f6e010",
   "metadata": {},
   "outputs": [],
   "source": []
  },
  {
   "cell_type": "code",
   "execution_count": 14,
   "id": "7a099a7e",
   "metadata": {},
   "outputs": [],
   "source": [
    "# Lista de todos os números primos dado um número, de 2 até este número:\n",
    "\n",
    "def lista_primos(x):\n",
    "    \n",
    "    lista = []\n",
    "    \n",
    "    for i in range(2, x+1):\n",
    "        if is_prime(i):\n",
    "            lista.append(i)\n",
    "    \n",
    "    return lista        "
   ]
  },
  {
   "cell_type": "code",
   "execution_count": 15,
   "id": "301389ba",
   "metadata": {},
   "outputs": [
    {
     "data": {
      "text/plain": [
       "[2, 3, 5, 7]"
      ]
     },
     "execution_count": 15,
     "metadata": {},
     "output_type": "execute_result"
    }
   ],
   "source": [
    "lista_primos(10)"
   ]
  },
  {
   "cell_type": "code",
   "execution_count": 16,
   "id": "9e21c27d",
   "metadata": {},
   "outputs": [
    {
     "data": {
      "text/plain": [
       "[2, 3, 5, 7, 11, 13]"
      ]
     },
     "execution_count": 16,
     "metadata": {},
     "output_type": "execute_result"
    }
   ],
   "source": [
    "lista_primos(13)"
   ]
  },
  {
   "cell_type": "code",
   "execution_count": 17,
   "id": "9f735dc3",
   "metadata": {},
   "outputs": [
    {
     "data": {
      "text/plain": [
       "[2, 3, 5, 7]"
      ]
     },
     "execution_count": 17,
     "metadata": {},
     "output_type": "execute_result"
    }
   ],
   "source": [
    "lista_primos(7)"
   ]
  },
  {
   "cell_type": "code",
   "execution_count": 18,
   "id": "767eff45",
   "metadata": {},
   "outputs": [
    {
     "data": {
      "text/plain": [
       "[2, 3, 5, 7, 11, 13, 17, 19, 23]"
      ]
     },
     "execution_count": 18,
     "metadata": {},
     "output_type": "execute_result"
    }
   ],
   "source": [
    "lista_primos(23)"
   ]
  },
  {
   "cell_type": "code",
   "execution_count": 19,
   "id": "05a1387d",
   "metadata": {},
   "outputs": [
    {
     "data": {
      "text/plain": [
       "[2, 3, 5, 7, 11, 13, 17, 19, 23]"
      ]
     },
     "execution_count": 19,
     "metadata": {},
     "output_type": "execute_result"
    }
   ],
   "source": [
    "lista_primos(24)"
   ]
  },
  {
   "cell_type": "code",
   "execution_count": null,
   "id": "a0fa0113",
   "metadata": {},
   "outputs": [],
   "source": []
  },
  {
   "cell_type": "markdown",
   "id": "231c84cc",
   "metadata": {},
   "source": [
    "### Decompondo um número em fatores primos:"
   ]
  },
  {
   "cell_type": "code",
   "execution_count": 20,
   "id": "943f1192",
   "metadata": {},
   "outputs": [],
   "source": [
    "def fatores_primos(x):\n",
    "    \n",
    "    lista_primos_in = lista_primos(x)\n",
    "    \n",
    "    lista_fatores_primos = []\n",
    "    \n",
    "    for i in lista_primos_in:\n",
    "        while x % i == 0:\n",
    "            lista_fatores_primos.append(i)\n",
    "            x = x / i\n",
    "    \n",
    "    return lista_fatores_primos"
   ]
  },
  {
   "cell_type": "code",
   "execution_count": 21,
   "id": "6d89ddfa",
   "metadata": {},
   "outputs": [
    {
     "data": {
      "text/plain": [
       "[2, 2, 3]"
      ]
     },
     "execution_count": 21,
     "metadata": {},
     "output_type": "execute_result"
    }
   ],
   "source": [
    "fatores_primos(12)"
   ]
  },
  {
   "cell_type": "code",
   "execution_count": 22,
   "id": "11508bb1",
   "metadata": {},
   "outputs": [
    {
     "data": {
      "text/plain": [
       "[13]"
      ]
     },
     "execution_count": 22,
     "metadata": {},
     "output_type": "execute_result"
    }
   ],
   "source": [
    "fatores_primos(13)"
   ]
  },
  {
   "cell_type": "code",
   "execution_count": 23,
   "id": "36b4bbf3",
   "metadata": {},
   "outputs": [
    {
     "data": {
      "text/plain": [
       "[2, 2, 2, 3]"
      ]
     },
     "execution_count": 23,
     "metadata": {},
     "output_type": "execute_result"
    }
   ],
   "source": [
    "fatores_primos(24)"
   ]
  },
  {
   "cell_type": "code",
   "execution_count": 24,
   "id": "55f9aac3",
   "metadata": {},
   "outputs": [
    {
     "data": {
      "text/plain": [
       "[2, 3, 5]"
      ]
     },
     "execution_count": 24,
     "metadata": {},
     "output_type": "execute_result"
    }
   ],
   "source": [
    "fatores_primos(30)"
   ]
  },
  {
   "cell_type": "code",
   "execution_count": 25,
   "id": "e0ae0e37",
   "metadata": {},
   "outputs": [
    {
     "data": {
      "text/plain": [
       "[2, 2, 2, 2, 2, 2, 2, 2, 2, 2]"
      ]
     },
     "execution_count": 25,
     "metadata": {},
     "output_type": "execute_result"
    }
   ],
   "source": [
    "fatores_primos(1024)"
   ]
  },
  {
   "cell_type": "code",
   "execution_count": null,
   "id": "63491895",
   "metadata": {},
   "outputs": [],
   "source": []
  },
  {
   "cell_type": "code",
   "execution_count": 26,
   "id": "6280f47e",
   "metadata": {},
   "outputs": [],
   "source": [
    "### Decomposição de fatores primos, utilizando um dicionário para contabilizar a quantidade de cada fator"
   ]
  },
  {
   "cell_type": "code",
   "execution_count": 27,
   "id": "2c454a28",
   "metadata": {},
   "outputs": [],
   "source": [
    "def fatores_primos_dict(x):\n",
    "    \n",
    "    lista_fatores_primos = fatores_primos(x)\n",
    "    \n",
    "    valores_unicos = set(lista_fatores_primos)\n",
    "    \n",
    "    fatores_primos_dict = {}\n",
    "    count = 0\n",
    "    \n",
    "    for i in valores_unicos:\n",
    "        for j in lista_fatores_primos:\n",
    "            if i == j:\n",
    "                count += 1\n",
    "        fatores_primos_dict[i] = count\n",
    "        count = 0\n",
    "    \n",
    "    return fatores_primos_dict"
   ]
  },
  {
   "cell_type": "code",
   "execution_count": 28,
   "id": "6966e93b",
   "metadata": {},
   "outputs": [
    {
     "data": {
      "text/plain": [
       "{2: 10}"
      ]
     },
     "execution_count": 28,
     "metadata": {},
     "output_type": "execute_result"
    }
   ],
   "source": [
    "fatores_primos_dict(1024)"
   ]
  },
  {
   "cell_type": "code",
   "execution_count": 29,
   "id": "8f523a2b",
   "metadata": {},
   "outputs": [
    {
     "data": {
      "text/plain": [
       "{2: 1, 5: 1}"
      ]
     },
     "execution_count": 29,
     "metadata": {},
     "output_type": "execute_result"
    }
   ],
   "source": [
    "fatores_primos_dict(10)"
   ]
  },
  {
   "cell_type": "code",
   "execution_count": 30,
   "id": "6f895580",
   "metadata": {},
   "outputs": [
    {
     "data": {
      "text/plain": [
       "{13: 1}"
      ]
     },
     "execution_count": 30,
     "metadata": {},
     "output_type": "execute_result"
    }
   ],
   "source": [
    "fatores_primos_dict(13)"
   ]
  },
  {
   "cell_type": "code",
   "execution_count": 31,
   "id": "fd128150",
   "metadata": {},
   "outputs": [
    {
     "data": {
      "text/plain": [
       "{2: 1, 3: 1, 5: 1, 7: 1}"
      ]
     },
     "execution_count": 31,
     "metadata": {},
     "output_type": "execute_result"
    }
   ],
   "source": [
    "fatores_primos_dict(210)"
   ]
  },
  {
   "cell_type": "code",
   "execution_count": null,
   "id": "59989e4a",
   "metadata": {},
   "outputs": [],
   "source": []
  },
  {
   "cell_type": "code",
   "execution_count": 32,
   "id": "eb733298",
   "metadata": {},
   "outputs": [],
   "source": [
    "### Função que recebe um dicionário com a key sendo o valor das base e o value do dicionário a potência\n",
    "### imprime o número decomposto em fator primo com as respectivas potências"
   ]
  },
  {
   "cell_type": "code",
   "execution_count": 33,
   "id": "0a1875a3",
   "metadata": {},
   "outputs": [],
   "source": [
    "def print_fatores_primos(x_dict):\n",
    "        \n",
    "    string_to_print = \"\"\n",
    "    \n",
    "    for i in x_dict:\n",
    "        if x_dict[i] == 1:  # para não exibir o elevado a 1 (^1)\n",
    "            string_to_print += \"{} * \".format(i)  \n",
    "        else:\n",
    "            string_to_print += \"{}^{} * \".format(i, x_dict[i])\n",
    "   \n",
    "    string_to_print = string_to_print[:-3]  # para retirar o último asterísco\n",
    "    \n",
    "    print(string_to_print)"
   ]
  },
  {
   "cell_type": "code",
   "execution_count": 34,
   "id": "2bed64b8",
   "metadata": {},
   "outputs": [
    {
     "name": "stdout",
     "output_type": "stream",
     "text": [
      "2 * 5\n"
     ]
    }
   ],
   "source": [
    "print_fatores_primos(fatores_primos_dict(10))"
   ]
  },
  {
   "cell_type": "code",
   "execution_count": 35,
   "id": "8cbfae6e",
   "metadata": {},
   "outputs": [
    {
     "name": "stdout",
     "output_type": "stream",
     "text": [
      "2^2 * 3\n"
     ]
    }
   ],
   "source": [
    "print_fatores_primos(fatores_primos_dict(12))"
   ]
  },
  {
   "cell_type": "code",
   "execution_count": 36,
   "id": "077da19f",
   "metadata": {},
   "outputs": [
    {
     "name": "stdout",
     "output_type": "stream",
     "text": [
      "2^2 * 5\n"
     ]
    }
   ],
   "source": [
    "print_fatores_primos(fatores_primos_dict(20))"
   ]
  },
  {
   "cell_type": "code",
   "execution_count": 37,
   "id": "cc82dba9",
   "metadata": {},
   "outputs": [
    {
     "name": "stdout",
     "output_type": "stream",
     "text": [
      "2^2 * 3 * 5\n"
     ]
    }
   ],
   "source": [
    "print_fatores_primos(fatores_primos_dict(60))"
   ]
  },
  {
   "cell_type": "code",
   "execution_count": 38,
   "id": "689772c8",
   "metadata": {},
   "outputs": [
    {
     "name": "stdout",
     "output_type": "stream",
     "text": [
      "2^2 * 3 * 5 * 7\n"
     ]
    }
   ],
   "source": [
    "print_fatores_primos(fatores_primos_dict(420))"
   ]
  },
  {
   "cell_type": "code",
   "execution_count": 39,
   "id": "0facd480",
   "metadata": {},
   "outputs": [
    {
     "name": "stdout",
     "output_type": "stream",
     "text": [
      "2^2 * 3^2 * 5\n"
     ]
    }
   ],
   "source": [
    "print_fatores_primos(fatores_primos_dict(180))"
   ]
  },
  {
   "cell_type": "code",
   "execution_count": 40,
   "id": "001b0d5d",
   "metadata": {},
   "outputs": [
    {
     "name": "stdout",
     "output_type": "stream",
     "text": [
      "29\n"
     ]
    }
   ],
   "source": [
    "print_fatores_primos(fatores_primos_dict(29))"
   ]
  },
  {
   "cell_type": "code",
   "execution_count": 41,
   "id": "7020e232",
   "metadata": {},
   "outputs": [
    {
     "name": "stdout",
     "output_type": "stream",
     "text": [
      "2^10\n"
     ]
    }
   ],
   "source": [
    "print_fatores_primos(fatores_primos_dict(1024))"
   ]
  },
  {
   "cell_type": "code",
   "execution_count": 42,
   "id": "84d5ee84",
   "metadata": {},
   "outputs": [
    {
     "name": "stdout",
     "output_type": "stream",
     "text": [
      "41 * 3\n"
     ]
    }
   ],
   "source": [
    "print_fatores_primos(fatores_primos_dict(123))"
   ]
  },
  {
   "cell_type": "code",
   "execution_count": 43,
   "id": "bd1710ba",
   "metadata": {},
   "outputs": [
    {
     "name": "stdout",
     "output_type": "stream",
     "text": [
      "107 * 3\n"
     ]
    }
   ],
   "source": [
    "print_fatores_primos(fatores_primos_dict(321))"
   ]
  },
  {
   "cell_type": "code",
   "execution_count": null,
   "id": "a751e515",
   "metadata": {},
   "outputs": [],
   "source": []
  },
  {
   "cell_type": "code",
   "execution_count": 44,
   "id": "9c1c8c29",
   "metadata": {},
   "outputs": [],
   "source": [
    "# Mínimo Múltiplo Comum de 2 números\n",
    "\n",
    "def mmc(m, n):\n",
    "    \n",
    "    lista_fatores_primos_m = fatores_primos(m)\n",
    "    lista_fatores_primos_n = fatores_primos(n)\n",
    "      \n",
    "    # União e depois valores únicos\n",
    "    \n",
    "    union = set(lista_fatores_primos_m).union(set(lista_fatores_primos_n))\n",
    "    union = list(union)\n",
    "   \n",
    "    mmc_dict = {}\n",
    "    count = 0\n",
    "    \n",
    "    for i in union:\n",
    "        if lista_fatores_primos_m.count(i) > lista_fatores_primos_n.count(i):\n",
    "            count = lista_fatores_primos_m.count(i)\n",
    "        else:\n",
    "            count = lista_fatores_primos_n.count(i)\n",
    "        mmc_dict[i] = count\n",
    "\n",
    "    return mmc_dict"
   ]
  },
  {
   "cell_type": "code",
   "execution_count": 45,
   "id": "d7f024c1",
   "metadata": {},
   "outputs": [
    {
     "data": {
      "text/plain": [
       "{2: 2, 3: 1, 5: 1}"
      ]
     },
     "execution_count": 45,
     "metadata": {},
     "output_type": "execute_result"
    }
   ],
   "source": [
    "mmc(12, 30)"
   ]
  },
  {
   "cell_type": "code",
   "execution_count": 46,
   "id": "b98526f8",
   "metadata": {},
   "outputs": [
    {
     "name": "stdout",
     "output_type": "stream",
     "text": [
      "2^2 * 3 * 5\n"
     ]
    }
   ],
   "source": [
    "print_fatores_primos(mmc(12, 30))"
   ]
  },
  {
   "cell_type": "code",
   "execution_count": 47,
   "id": "c48519aa",
   "metadata": {},
   "outputs": [
    {
     "name": "stdout",
     "output_type": "stream",
     "text": [
      "2^2 * 3^2 * 5^2\n"
     ]
    }
   ],
   "source": [
    "print_fatores_primos(mmc(36, 150))"
   ]
  },
  {
   "cell_type": "code",
   "execution_count": 48,
   "id": "c846c6d6",
   "metadata": {},
   "outputs": [
    {
     "name": "stdout",
     "output_type": "stream",
     "text": [
      "2 * 3 * 5\n"
     ]
    }
   ],
   "source": [
    "print_fatores_primos(mmc(5, 6))"
   ]
  },
  {
   "cell_type": "code",
   "execution_count": 49,
   "id": "3bb93a8e",
   "metadata": {},
   "outputs": [
    {
     "name": "stdout",
     "output_type": "stream",
     "text": [
      "3 * 7\n"
     ]
    }
   ],
   "source": [
    "print_fatores_primos(mmc(7, 3))"
   ]
  },
  {
   "cell_type": "code",
   "execution_count": 50,
   "id": "32cc0919",
   "metadata": {},
   "outputs": [
    {
     "name": "stdout",
     "output_type": "stream",
     "text": [
      "2^2 * 3 * 5^2\n"
     ]
    }
   ],
   "source": [
    "print_fatores_primos(mmc(60, 100))"
   ]
  },
  {
   "cell_type": "code",
   "execution_count": 51,
   "id": "15e1f529",
   "metadata": {},
   "outputs": [
    {
     "name": "stdout",
     "output_type": "stream",
     "text": [
      "2^5 * 3^3 * 5 * 7\n"
     ]
    }
   ],
   "source": [
    "print_fatores_primos(mmc(1440, 3780))"
   ]
  },
  {
   "cell_type": "code",
   "execution_count": 52,
   "id": "50beb1ba",
   "metadata": {},
   "outputs": [
    {
     "name": "stdout",
     "output_type": "stream",
     "text": [
      "2^6 * 5\n"
     ]
    }
   ],
   "source": [
    "print_fatores_primos(mmc(40, 64))"
   ]
  }
 ],
 "metadata": {
  "kernelspec": {
   "display_name": "Python 3",
   "language": "python",
   "name": "python3"
  },
  "language_info": {
   "codemirror_mode": {
    "name": "ipython",
    "version": 3
   },
   "file_extension": ".py",
   "mimetype": "text/x-python",
   "name": "python",
   "nbconvert_exporter": "python",
   "pygments_lexer": "ipython3",
   "version": "3.8.11"
  }
 },
 "nbformat": 4,
 "nbformat_minor": 5
}
