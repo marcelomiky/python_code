{
 "cells": [
  {
   "cell_type": "markdown",
   "id": "44056b4d",
   "metadata": {},
   "source": [
    "# Escolhe 6 números de forma aleatória para a sua fézinha. Lista também os números mais sorteados"
   ]
  },
  {
   "cell_type": "code",
   "execution_count": 216,
   "id": "123dda3e",
   "metadata": {},
   "outputs": [],
   "source": [
    "import random\n",
    "import pandas as pd\n",
    "from collections import Counter\n",
    "import collections\n",
    "import matplotlib.pyplot as plt\n",
    "import operator\n",
    "from itertools import islice"
   ]
  },
  {
   "cell_type": "code",
   "execution_count": 185,
   "id": "45174e29",
   "metadata": {},
   "outputs": [],
   "source": [
    "df_numeros_sorteados = pd.read_csv('mega_sena_todos_concursos.csv', names=['n1', 'n2', 'n3', 'n4', 'n5', 'n6'])"
   ]
  },
  {
   "cell_type": "code",
   "execution_count": 186,
   "id": "2304455e",
   "metadata": {},
   "outputs": [],
   "source": [
    "def escolhe_numeros(numeros_prediletos=0):\n",
    "    lista = []\n",
    "    \n",
    "    if type(numeros_prediletos) == int:\n",
    "        for i in range(6):\n",
    "            a = random.randrange(1, 61)\n",
    "            if a not in lista:\n",
    "                lista.append(a)\n",
    "    else:\n",
    "        lista = numeros_prediletos.copy()\n",
    "        for i in range(6-len(lista)):\n",
    "            a = random.randrange(1, 61)\n",
    "            if a not in lista:\n",
    "                lista.append(a)\n",
    "    \n",
    "    lista.sort()\n",
    "    \n",
    "    return lista"
   ]
  },
  {
   "cell_type": "code",
   "execution_count": 187,
   "id": "953984cf",
   "metadata": {},
   "outputs": [],
   "source": [
    "def acha_se_numeros_ja_foram_sorteados(df_numeros_sorteados, lista_numeros):\n",
    "    for i in range(len(df_numeros_sorteados)):\n",
    "        if set(df_numeros_sorteados.iloc[i]) == set(lista_numeros):\n",
    "            return True\n",
    "    return False"
   ]
  },
  {
   "cell_type": "code",
   "execution_count": 188,
   "id": "666750b7",
   "metadata": {},
   "outputs": [
    {
     "data": {
      "text/plain": [
       "False"
      ]
     },
     "execution_count": 188,
     "metadata": {},
     "output_type": "execute_result"
    }
   ],
   "source": [
    "# numeros_da_sorte = [17, 23]\n",
    "# x = escolhe_numeros(numeros_da_sorte)\n",
    "\n",
    "x = escolhe_numeros()\n",
    "acha_se_numeros_ja_foram_sorteados(df_numeros_sorteados, lista_numeros=x)"
   ]
  },
  {
   "cell_type": "code",
   "execution_count": 189,
   "id": "134555a3",
   "metadata": {},
   "outputs": [
    {
     "data": {
      "text/plain": [
       "[19, 24, 25, 33, 54, 55]"
      ]
     },
     "execution_count": 189,
     "metadata": {},
     "output_type": "execute_result"
    }
   ],
   "source": [
    "x"
   ]
  },
  {
   "cell_type": "code",
   "execution_count": null,
   "id": "95761e5c",
   "metadata": {},
   "outputs": [],
   "source": []
  },
  {
   "cell_type": "code",
   "execution_count": 237,
   "id": "de9120c2",
   "metadata": {},
   "outputs": [
    {
     "data": {
      "text/plain": [
       "False"
      ]
     },
     "execution_count": 237,
     "metadata": {},
     "output_type": "execute_result"
    }
   ],
   "source": [
    "acha_se_numeros_ja_foram_sorteados(df_numeros_sorteados, x)"
   ]
  },
  {
   "cell_type": "code",
   "execution_count": null,
   "id": "2564e4f1",
   "metadata": {},
   "outputs": [],
   "source": []
  },
  {
   "cell_type": "code",
   "execution_count": 232,
   "id": "9b778d70",
   "metadata": {},
   "outputs": [],
   "source": [
    "def acha_numeros_mais_sorteados(df_numeros_sorteados):\n",
    "    \n",
    "    cols = ['n1', 'n2', 'n3', 'n4', 'n5', 'n6']\n",
    "\n",
    "    results = []\n",
    "\n",
    "    for i in cols:\n",
    "        results += df_numeros_sorteados[i].tolist() # Add data to a list\n",
    "\n",
    "    occurr = Counter(results)\n",
    "\n",
    "    desc_order = dict(sorted(occurr.items(), key=operator.itemgetter(1),reverse=True))\n",
    "    \n",
    "    numeros_mais_sorteados = list(islice(desc_order, 6))\n",
    "    \n",
    "    numeros_mais_sorteados.sort()\n",
    "    \n",
    "    return desc_order, numeros_mais_sorteados"
   ]
  },
  {
   "cell_type": "code",
   "execution_count": 234,
   "id": "dda8cdc3",
   "metadata": {},
   "outputs": [
    {
     "data": {
      "text/plain": [
       "[5, 10, 33, 37, 42, 53]"
      ]
     },
     "execution_count": 234,
     "metadata": {},
     "output_type": "execute_result"
    }
   ],
   "source": [
    "desc_order_dict, numeros_mais_sorteados = acha_numeros_mais_sorteados(df_numeros_sorteados)\n",
    "numeros_mais_sorteados"
   ]
  },
  {
   "cell_type": "code",
   "execution_count": 194,
   "id": "6b7283d0",
   "metadata": {},
   "outputs": [],
   "source": []
  },
  {
   "cell_type": "code",
   "execution_count": 239,
   "id": "19b20c2d",
   "metadata": {},
   "outputs": [
    {
     "data": {
      "text/plain": [
       "[53, 10, 5, 37, 42, 33]"
      ]
     },
     "execution_count": 239,
     "metadata": {},
     "output_type": "execute_result"
    }
   ],
   "source": [
    "list(islice(desc_order_dict, 6))"
   ]
  },
  {
   "cell_type": "code",
   "execution_count": null,
   "id": "4a3c063a",
   "metadata": {},
   "outputs": [],
   "source": []
  },
  {
   "cell_type": "code",
   "execution_count": 238,
   "id": "bdd0e0b5",
   "metadata": {},
   "outputs": [
    {
     "data": {
      "text/plain": [
       "False"
      ]
     },
     "execution_count": 238,
     "metadata": {},
     "output_type": "execute_result"
    }
   ],
   "source": [
    "acha_se_numeros_ja_foram_sorteados(df_numeros_sorteados, numeros_mais_sorteados)"
   ]
  },
  {
   "cell_type": "code",
   "execution_count": null,
   "id": "3da53157",
   "metadata": {},
   "outputs": [],
   "source": []
  },
  {
   "cell_type": "code",
   "execution_count": 236,
   "id": "722f7ccf",
   "metadata": {},
   "outputs": [
    {
     "data": {
      "image/png": "[encoded data removed]",
      "text/plain": [
       "<Figure size 432x288 with 1 Axes>"
      ]
     },
     "metadata": {
      "needs_background": "light"
     },
     "output_type": "display_data"
    }
   ],
   "source": [
    "# Display histogram\n",
    "plt.bar(list(desc_order_dict.keys()), desc_order_dict.values(), color='g')\n",
    "plt.xlabel(\"Numbers Drawn\")\n",
    "plt.ylabel(\"Frequency\")\n",
    "plt.show()"
   ]
  },
  {
   "cell_type": "code",
   "execution_count": null,
   "id": "3d107966",
   "metadata": {},
   "outputs": [],
   "source": []
  },
  {
   "cell_type": "code",
   "execution_count": null,
   "id": "dd5b930d",
   "metadata": {},
   "outputs": [],
   "source": []
  }
 ],
 "metadata": {
  "kernelspec": {
   "display_name": "Python 3 (ipykernel)",
   "language": "python",
   "name": "python3"
  },
  "language_info": {
   "codemirror_mode": {
    "name": "ipython",
    "version": 3
   },
   "file_extension": ".py",
   "mimetype": "text/x-python",
   "name": "python",
   "nbconvert_exporter": "python",
   "pygments_lexer": "ipython3",
   "version": "3.7.13"
  }
 },
 "nbformat": 4,
 "nbformat_minor": 5
}
