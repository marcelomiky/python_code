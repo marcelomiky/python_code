{
 "cells": [
  {
   "cell_type": "markdown",
   "id": "d710328b",
   "metadata": {},
   "source": [
    "#  Special parameters \n",
    "https://docs.python.org/3/tutorial/controlflow.html#keyword-arguments"
   ]
  },
  {
   "cell_type": "markdown",
   "id": "4ec38d11",
   "metadata": {},
   "source": [
    "By default, arguments may be passed to a Python function either by **position or explicitly by keyword**. For readability and performance, it makes sense to restrict the way arguments can be passed so that a developer need only look at the function definition to determine if items are passed by position, by position or keyword, or by keyword.\n",
    "\n",
    "A function definition may look like:"
   ]
  },
  {
   "cell_type": "code",
   "execution_count": 1,
   "id": "fbb9a977",
   "metadata": {},
   "outputs": [],
   "source": [
    "# def f(pos1, pos2, /, pos_or_kwd, *, kwd1, kwd2):\n",
    "#      -----------    ----------     ----------\n",
    "#        |             |                  |\n",
    "#        |        Positional or keyword   |\n",
    "#        |                                - Keyword only\n",
    "#         -- Positional only"
   ]
  },
  {
   "cell_type": "markdown",
   "id": "60c6673d",
   "metadata": {},
   "source": [
    "As guidance:\n",
    "\n",
    "- Use positional-only if you want the name of the parameters to not be available to the user. This is useful when parameter names have no real meaning, if you want to enforce the order of the arguments when the function is called or if you need to take some positional parameters and arbitrary keywords.\n",
    "\n",
    "- Use keyword-only when names have meaning and the function definition is more understandable by being explicit with names or you want to prevent users relying on the position of the argument being passed.\n",
    "\n",
    "- For an API, use positional-only to prevent breaking API changes if the parameter’s name is modified in the future.\n"
   ]
  },
  {
   "cell_type": "markdown",
   "id": "2a08f1d0",
   "metadata": {},
   "source": [
    "https://docs.python.org/3/tutorial/controlflow.html#function-examples"
   ]
  },
  {
   "cell_type": "markdown",
   "id": "d29a7fe1",
   "metadata": {},
   "source": [
    "Consider the following example function definitions paying close attention to the markers / and *:"
   ]
  },
  {
   "cell_type": "code",
   "execution_count": 2,
   "id": "0676a1c4",
   "metadata": {},
   "outputs": [],
   "source": [
    "def standard_arg(arg):\n",
    "    print(arg)\n",
    "\n",
    "def pos_only_arg(arg, /):\n",
    "    print(arg)\n",
    "\n",
    "def kwd_only_arg(*, arg):\n",
    "    print(arg)\n",
    "\n",
    "def combined_example(pos_only, /, standard, *, kwd_only):\n",
    "    print(pos_only, standard, kwd_only)"
   ]
  },
  {
   "cell_type": "code",
   "execution_count": 3,
   "id": "5e41b4dd",
   "metadata": {},
   "outputs": [
    {
     "name": "stdout",
     "output_type": "stream",
     "text": [
      "2\n"
     ]
    }
   ],
   "source": [
    "standard_arg(2)"
   ]
  },
  {
   "cell_type": "code",
   "execution_count": 4,
   "id": "713abbbb",
   "metadata": {},
   "outputs": [
    {
     "name": "stdout",
     "output_type": "stream",
     "text": [
      "2\n"
     ]
    }
   ],
   "source": [
    "standard_arg(arg=2)"
   ]
  },
  {
   "cell_type": "markdown",
   "id": "0d180588",
   "metadata": {},
   "source": [
    "The second function pos_only_arg is **restricted to only use positional parameters** as there is a **/** in the function definition:"
   ]
  },
  {
   "cell_type": "code",
   "execution_count": 5,
   "id": "b1b26898",
   "metadata": {},
   "outputs": [
    {
     "name": "stdout",
     "output_type": "stream",
     "text": [
      "1\n"
     ]
    }
   ],
   "source": [
    "pos_only_arg(1)"
   ]
  },
  {
   "cell_type": "code",
   "execution_count": 6,
   "id": "35770e88",
   "metadata": {},
   "outputs": [
    {
     "ename": "TypeError",
     "evalue": "pos_only_arg() got some positional-only arguments passed as keyword arguments: 'arg'",
     "output_type": "error",
     "traceback": [
      "\u001b[0;31m---------------------------------------------------------------------------\u001b[0m",
      "\u001b[0;31mTypeError\u001b[0m                                 Traceback (most recent call last)",
      "\u001b[0;32m<ipython-input-6-434db44f4ff9>\u001b[0m in \u001b[0;36m<module>\u001b[0;34m\u001b[0m\n\u001b[0;32m----> 1\u001b[0;31m \u001b[0mpos_only_arg\u001b[0m\u001b[0;34m(\u001b[0m\u001b[0marg\u001b[0m\u001b[0;34m=\u001b[0m\u001b[0;36m1\u001b[0m\u001b[0;34m)\u001b[0m\u001b[0;34m\u001b[0m\u001b[0;34m\u001b[0m\u001b[0m\n\u001b[0m",
      "\u001b[0;31mTypeError\u001b[0m: pos_only_arg() got some positional-only arguments passed as keyword arguments: 'arg'"
     ]
    }
   ],
   "source": [
    "pos_only_arg(arg=1)"
   ]
  },
  {
   "cell_type": "markdown",
   "id": "b6ef8edd",
   "metadata": {},
   "source": [
    "The third function kwd_only_args only allows keyword arguments as indicated by a * in the function definition:"
   ]
  },
  {
   "cell_type": "code",
   "execution_count": 7,
   "id": "a33b8bef",
   "metadata": {},
   "outputs": [
    {
     "ename": "TypeError",
     "evalue": "kwd_only_arg() takes 0 positional arguments but 1 was given",
     "output_type": "error",
     "traceback": [
      "\u001b[0;31m---------------------------------------------------------------------------\u001b[0m",
      "\u001b[0;31mTypeError\u001b[0m                                 Traceback (most recent call last)",
      "\u001b[0;32m<ipython-input-7-896c53ef896c>\u001b[0m in \u001b[0;36m<module>\u001b[0;34m\u001b[0m\n\u001b[0;32m----> 1\u001b[0;31m \u001b[0mkwd_only_arg\u001b[0m\u001b[0;34m(\u001b[0m\u001b[0;36m3\u001b[0m\u001b[0;34m)\u001b[0m\u001b[0;34m\u001b[0m\u001b[0;34m\u001b[0m\u001b[0m\n\u001b[0m",
      "\u001b[0;31mTypeError\u001b[0m: kwd_only_arg() takes 0 positional arguments but 1 was given"
     ]
    }
   ],
   "source": [
    "kwd_only_arg(3)"
   ]
  },
  {
   "cell_type": "code",
   "execution_count": 8,
   "id": "9aa00a17",
   "metadata": {},
   "outputs": [
    {
     "name": "stdout",
     "output_type": "stream",
     "text": [
      "3\n"
     ]
    }
   ],
   "source": [
    "kwd_only_arg(arg=3)"
   ]
  },
  {
   "cell_type": "markdown",
   "id": "d7e9821b",
   "metadata": {},
   "source": [
    "And the last uses all three calling conventions in the same function definition:"
   ]
  },
  {
   "cell_type": "code",
   "execution_count": 9,
   "id": "c5f8212f",
   "metadata": {},
   "outputs": [
    {
     "ename": "TypeError",
     "evalue": "combined_example() takes 2 positional arguments but 3 were given",
     "output_type": "error",
     "traceback": [
      "\u001b[0;31m---------------------------------------------------------------------------\u001b[0m",
      "\u001b[0;31mTypeError\u001b[0m                                 Traceback (most recent call last)",
      "\u001b[0;32m<ipython-input-9-037a05a37207>\u001b[0m in \u001b[0;36m<module>\u001b[0;34m\u001b[0m\n\u001b[0;32m----> 1\u001b[0;31m \u001b[0mcombined_example\u001b[0m\u001b[0;34m(\u001b[0m\u001b[0;36m1\u001b[0m\u001b[0;34m,\u001b[0m \u001b[0;36m2\u001b[0m\u001b[0;34m,\u001b[0m \u001b[0;36m3\u001b[0m\u001b[0;34m)\u001b[0m\u001b[0;34m\u001b[0m\u001b[0;34m\u001b[0m\u001b[0m\n\u001b[0m",
      "\u001b[0;31mTypeError\u001b[0m: combined_example() takes 2 positional arguments but 3 were given"
     ]
    }
   ],
   "source": [
    "combined_example(1, 2, 3)"
   ]
  },
  {
   "cell_type": "code",
   "execution_count": 10,
   "id": "9fea5b89",
   "metadata": {},
   "outputs": [
    {
     "name": "stdout",
     "output_type": "stream",
     "text": [
      "1 2 3\n"
     ]
    }
   ],
   "source": [
    "combined_example(1, 2, kwd_only=3)"
   ]
  },
  {
   "cell_type": "code",
   "execution_count": 11,
   "id": "a9b024fe",
   "metadata": {},
   "outputs": [
    {
     "name": "stdout",
     "output_type": "stream",
     "text": [
      "1 2 3\n"
     ]
    }
   ],
   "source": [
    "combined_example(1, standard=2, kwd_only=3)"
   ]
  },
  {
   "cell_type": "code",
   "execution_count": 12,
   "id": "3e2a5e66",
   "metadata": {},
   "outputs": [
    {
     "ename": "TypeError",
     "evalue": "combined_example() got some positional-only arguments passed as keyword arguments: 'pos_only'",
     "output_type": "error",
     "traceback": [
      "\u001b[0;31m---------------------------------------------------------------------------\u001b[0m",
      "\u001b[0;31mTypeError\u001b[0m                                 Traceback (most recent call last)",
      "\u001b[0;32m<ipython-input-12-a0fe0f8338e9>\u001b[0m in \u001b[0;36m<module>\u001b[0;34m\u001b[0m\n\u001b[0;32m----> 1\u001b[0;31m \u001b[0mcombined_example\u001b[0m\u001b[0;34m(\u001b[0m\u001b[0mpos_only\u001b[0m\u001b[0;34m=\u001b[0m\u001b[0;36m1\u001b[0m\u001b[0;34m,\u001b[0m \u001b[0mstandard\u001b[0m\u001b[0;34m=\u001b[0m\u001b[0;36m2\u001b[0m\u001b[0;34m,\u001b[0m \u001b[0mkwd_only\u001b[0m\u001b[0;34m=\u001b[0m\u001b[0;36m3\u001b[0m\u001b[0;34m)\u001b[0m\u001b[0;34m\u001b[0m\u001b[0;34m\u001b[0m\u001b[0m\n\u001b[0m",
      "\u001b[0;31mTypeError\u001b[0m: combined_example() got some positional-only arguments passed as keyword arguments: 'pos_only'"
     ]
    }
   ],
   "source": [
    "combined_example(pos_only=1, standard=2, kwd_only=3)"
   ]
  },
  {
   "cell_type": "code",
   "execution_count": 13,
   "id": "d2d60948",
   "metadata": {},
   "outputs": [
    {
     "name": "stdout",
     "output_type": "stream",
     "text": [
      "1 2 3\n"
     ]
    }
   ],
   "source": [
    "combined_example(1, standard=2, kwd_only=3)"
   ]
  },
  {
   "cell_type": "markdown",
   "id": "bdf4d5e3",
   "metadata": {},
   "source": [
    "Consider this function definition which has a potential collision between the positional argument name and \\**kwds which has name as a key:"
   ]
  },
  {
   "cell_type": "code",
   "execution_count": 14,
   "id": "1a503a69",
   "metadata": {},
   "outputs": [],
   "source": [
    "def foo(name, **kwds):\n",
    "    return 'name' in kwds"
   ]
  },
  {
   "cell_type": "markdown",
   "id": "78592423",
   "metadata": {},
   "source": [
    "There is no possible call that will make it return True as the keyword 'name' will always bind to the first parameter. For example:"
   ]
  },
  {
   "cell_type": "code",
   "execution_count": 15,
   "id": "93f57c31",
   "metadata": {},
   "outputs": [
    {
     "ename": "TypeError",
     "evalue": "foo() got multiple values for argument 'name'",
     "output_type": "error",
     "traceback": [
      "\u001b[0;31m---------------------------------------------------------------------------\u001b[0m",
      "\u001b[0;31mTypeError\u001b[0m                                 Traceback (most recent call last)",
      "\u001b[0;32m<ipython-input-15-1e719af70668>\u001b[0m in \u001b[0;36m<module>\u001b[0;34m\u001b[0m\n\u001b[0;32m----> 1\u001b[0;31m \u001b[0mfoo\u001b[0m\u001b[0;34m(\u001b[0m\u001b[0;36m1\u001b[0m\u001b[0;34m,\u001b[0m \u001b[0;34m**\u001b[0m\u001b[0;34m{\u001b[0m\u001b[0;34m'name'\u001b[0m\u001b[0;34m:\u001b[0m \u001b[0;36m2\u001b[0m\u001b[0;34m}\u001b[0m\u001b[0;34m)\u001b[0m\u001b[0;34m\u001b[0m\u001b[0;34m\u001b[0m\u001b[0m\n\u001b[0m",
      "\u001b[0;31mTypeError\u001b[0m: foo() got multiple values for argument 'name'"
     ]
    }
   ],
   "source": [
    "foo(1, **{'name': 2})"
   ]
  },
  {
   "cell_type": "markdown",
   "id": "f7a587eb",
   "metadata": {},
   "source": [
    "But using / (positional only arguments), it is possible since it allows name as a positional argument and 'name' as a key in the keyword arguments:"
   ]
  },
  {
   "cell_type": "code",
   "execution_count": 16,
   "id": "8dff20db",
   "metadata": {},
   "outputs": [],
   "source": [
    "def foo(name, /, **kwds):\n",
    "    return 'name' in kwds"
   ]
  },
  {
   "cell_type": "code",
   "execution_count": 17,
   "id": "d40c51c4",
   "metadata": {},
   "outputs": [
    {
     "data": {
      "text/plain": [
       "True"
      ]
     },
     "execution_count": 17,
     "metadata": {},
     "output_type": "execute_result"
    }
   ],
   "source": [
    "foo(1, **{'name': 2})"
   ]
  },
  {
   "cell_type": "markdown",
   "id": "90132e71",
   "metadata": {},
   "source": [
    "In other words, the names of positional-only parameters can be used in **kwds without ambiguity."
   ]
  },
  {
   "cell_type": "markdown",
   "id": "37f25a84",
   "metadata": {},
   "source": [
    "# Refatorar código mmc e mdc com \\*args ou \\*\\*kwargs, para aplicar com 3 números ou mais"
   ]
  },
  {
   "cell_type": "code",
   "execution_count": 18,
   "id": "ab3b9e4d",
   "metadata": {},
   "outputs": [],
   "source": [
    "def divisores(n):\n",
    "    \n",
    "    lista_divisores = [1]  # pois o 1 sempre será divisor\n",
    "    \n",
    "    for i in range(2, n-1):\n",
    "        if n % i == 0:\n",
    "            lista_divisores.append(i)\n",
    "    \n",
    "    lista_divisores.append(n) # pois o próprio número será divisor dele mesmo\n",
    "    \n",
    "    return lista_divisores"
   ]
  },
  {
   "cell_type": "code",
   "execution_count": 19,
   "id": "fd0fd69b",
   "metadata": {},
   "outputs": [
    {
     "data": {
      "text/plain": [
       "[1, 2, 5, 10]"
      ]
     },
     "execution_count": 19,
     "metadata": {},
     "output_type": "execute_result"
    }
   ],
   "source": [
    "divisores(10)"
   ]
  },
  {
   "cell_type": "code",
   "execution_count": 20,
   "id": "3d936f92",
   "metadata": {},
   "outputs": [],
   "source": [
    "import collections\n",
    "\n",
    "def mdc(*numeros):\n",
    "    \n",
    "    lista_divisores_todos = list()\n",
    "    \n",
    "    for i in numeros:\n",
    "        lista_divisores_todos.append(divisores(i))\n",
    "    \n",
    "    flat_list = [item for sublist in lista_divisores_todos for item in sublist]\n",
    "    \n",
    "    intersection = [item for item, count in collections.Counter(flat_list).items() if count > len(numeros) - 1]\n",
    "        \n",
    "    intersection.sort()\n",
    "       \n",
    "    return intersection[-1] "
   ]
  },
  {
   "cell_type": "code",
   "execution_count": 21,
   "id": "4fdf446b",
   "metadata": {},
   "outputs": [
    {
     "data": {
      "text/plain": [
       "2"
      ]
     },
     "execution_count": 21,
     "metadata": {},
     "output_type": "execute_result"
    }
   ],
   "source": [
    "mdc(50, 100, 38)"
   ]
  },
  {
   "cell_type": "code",
   "execution_count": 22,
   "id": "57d55984",
   "metadata": {},
   "outputs": [
    {
     "data": {
      "text/plain": [
       "10"
      ]
     },
     "execution_count": 22,
     "metadata": {},
     "output_type": "execute_result"
    }
   ],
   "source": [
    "mdc(10, 20, 30)"
   ]
  },
  {
   "cell_type": "code",
   "execution_count": 23,
   "id": "60945b46",
   "metadata": {},
   "outputs": [
    {
     "data": {
      "text/plain": [
       "20"
      ]
     },
     "execution_count": 23,
     "metadata": {},
     "output_type": "execute_result"
    }
   ],
   "source": [
    "mdc(20, 40, 60, 80)"
   ]
  },
  {
   "cell_type": "code",
   "execution_count": null,
   "id": "c15f5a6d",
   "metadata": {},
   "outputs": [],
   "source": []
  },
  {
   "cell_type": "code",
   "execution_count": 24,
   "id": "bf47ac96",
   "metadata": {},
   "outputs": [],
   "source": [
    "def is_prime(x):\n",
    "    n = 0\n",
    "    for i in range(1, x+1):\n",
    "        if x % i == 0:\n",
    "            n += 1\n",
    "    \n",
    "    if n > 2:\n",
    "        return False\n",
    "    else:\n",
    "        return True"
   ]
  },
  {
   "cell_type": "code",
   "execution_count": 25,
   "id": "0a1d45bb",
   "metadata": {},
   "outputs": [],
   "source": [
    "# Lista de todos os números primos dado um número, de 2 até este número:\n",
    "\n",
    "def lista_primos(x):\n",
    "    \n",
    "    lista = []\n",
    "    \n",
    "    for i in range(2, x+1):\n",
    "        if is_prime(i):\n",
    "            lista.append(i)\n",
    "    \n",
    "    return lista        "
   ]
  },
  {
   "cell_type": "code",
   "execution_count": 26,
   "id": "33981f40",
   "metadata": {},
   "outputs": [],
   "source": [
    "def fatores_primos(x):\n",
    "    \n",
    "    lista_primos_in = lista_primos(x)\n",
    "    \n",
    "    lista_fatores_primos = []\n",
    "    \n",
    "    for i in lista_primos_in:\n",
    "        while x % i == 0:\n",
    "            lista_fatores_primos.append(i)\n",
    "            x = x / i\n",
    "    \n",
    "    return lista_fatores_primos"
   ]
  },
  {
   "cell_type": "code",
   "execution_count": 27,
   "id": "c3ac477d",
   "metadata": {},
   "outputs": [],
   "source": [
    "def fatores_primos_dict(x):\n",
    "    \n",
    "    lista_fatores_primos = fatores_primos(x)\n",
    "    \n",
    "    valores_unicos = set(lista_fatores_primos)\n",
    "    \n",
    "    fatores_primos_dict = {}\n",
    "    count = 0\n",
    "    \n",
    "    for i in valores_unicos:\n",
    "        for j in lista_fatores_primos:\n",
    "            if i == j:\n",
    "                count += 1\n",
    "        fatores_primos_dict[i] = count\n",
    "        count = 0\n",
    "    \n",
    "    return fatores_primos_dict"
   ]
  },
  {
   "cell_type": "code",
   "execution_count": 28,
   "id": "8719c4f9",
   "metadata": {},
   "outputs": [],
   "source": [
    "def print_fatores_primos(x_dict):\n",
    "        \n",
    "    string_to_print = \"\"\n",
    "    \n",
    "    for i in x_dict:\n",
    "        if x_dict[i] == 1:  # para não exibir o elevado a 1 (^1)\n",
    "            string_to_print += \"{} * \".format(i)  \n",
    "        else:\n",
    "            string_to_print += \"{}^{} * \".format(i, x_dict[i])\n",
    "   \n",
    "    string_to_print = string_to_print[:-3]  # para retirar o último asterísco\n",
    "    \n",
    "    print(string_to_print)"
   ]
  },
  {
   "cell_type": "code",
   "execution_count": 29,
   "id": "825040d6",
   "metadata": {},
   "outputs": [],
   "source": [
    "# Mínimo Múltiplo Comum de n números\n",
    "\n",
    "def mmc_args(*numeros):\n",
    "    \n",
    "    lista_fatores_primos_todos = list()\n",
    "    \n",
    "    for i in numeros:\n",
    "        lista_fatores_primos_todos.append(fatores_primos(i))\n",
    "    \n",
    "    flat_list = [item for sublist in lista_fatores_primos_todos for item in sublist]\n",
    "    \n",
    "    union = list(set(flat_list))\n",
    "    union.sort()\n",
    "    \n",
    "    mmc_dict = {}\n",
    "    count = 0\n",
    "    \n",
    "    for i in union:\n",
    "        for j in range(len(lista_fatores_primos_todos)):\n",
    "            if lista_fatores_primos_todos[j].count(i) > count:\n",
    "                count = lista_fatores_primos_todos[j].count(i)\n",
    "        mmc_dict[i] = count\n",
    "        count = 0\n",
    "\n",
    "    return mmc_dict"
   ]
  },
  {
   "cell_type": "code",
   "execution_count": 30,
   "id": "c35022c2",
   "metadata": {},
   "outputs": [
    {
     "data": {
      "text/plain": [
       "{3: 2, 7: 1, 13: 1}"
      ]
     },
     "execution_count": 30,
     "metadata": {},
     "output_type": "execute_result"
    }
   ],
   "source": [
    "mmc_args(39, 9, 7)"
   ]
  },
  {
   "cell_type": "code",
   "execution_count": 31,
   "id": "160cbfe6",
   "metadata": {},
   "outputs": [
    {
     "name": "stdout",
     "output_type": "stream",
     "text": [
      "3^2 * 7 * 13\n"
     ]
    }
   ],
   "source": [
    "print_fatores_primos(mmc_args(39, 9, 7))"
   ]
  },
  {
   "cell_type": "code",
   "execution_count": 32,
   "id": "18d2fb4f",
   "metadata": {},
   "outputs": [
    {
     "data": {
      "text/plain": [
       "{2: 1, 3: 1, 5: 1}"
      ]
     },
     "execution_count": 32,
     "metadata": {},
     "output_type": "execute_result"
    }
   ],
   "source": [
    "mmc_args(2, 5, 6)"
   ]
  },
  {
   "cell_type": "code",
   "execution_count": 33,
   "id": "2a3d3860",
   "metadata": {},
   "outputs": [
    {
     "name": "stdout",
     "output_type": "stream",
     "text": [
      "2 * 3 * 5\n"
     ]
    }
   ],
   "source": [
    "print_fatores_primos(mmc_args(2, 5, 6))"
   ]
  },
  {
   "cell_type": "code",
   "execution_count": 34,
   "id": "059b2bc0",
   "metadata": {},
   "outputs": [
    {
     "data": {
      "text/plain": [
       "{3: 1, 5: 1}"
      ]
     },
     "execution_count": 34,
     "metadata": {},
     "output_type": "execute_result"
    }
   ],
   "source": [
    "mmc_args(15, 5, 3)"
   ]
  },
  {
   "cell_type": "code",
   "execution_count": 35,
   "id": "ba477b9a",
   "metadata": {},
   "outputs": [
    {
     "name": "stdout",
     "output_type": "stream",
     "text": [
      "3 * 5\n"
     ]
    }
   ],
   "source": [
    "print_fatores_primos(mmc_args(15, 5, 3))"
   ]
  },
  {
   "cell_type": "code",
   "execution_count": 36,
   "id": "e980632c",
   "metadata": {},
   "outputs": [
    {
     "data": {
      "text/plain": [
       "{2: 1, 3: 1, 7: 1}"
      ]
     },
     "execution_count": 36,
     "metadata": {},
     "output_type": "execute_result"
    }
   ],
   "source": [
    "mmc_args(3, 2, 21)"
   ]
  },
  {
   "cell_type": "code",
   "execution_count": 37,
   "id": "1bb9e1f8",
   "metadata": {},
   "outputs": [
    {
     "name": "stdout",
     "output_type": "stream",
     "text": [
      "2 * 3 * 7\n"
     ]
    }
   ],
   "source": [
    "print_fatores_primos(mmc_args(3, 2, 21))"
   ]
  },
  {
   "cell_type": "code",
   "execution_count": 38,
   "id": "167b9611",
   "metadata": {},
   "outputs": [
    {
     "data": {
      "text/plain": [
       "{2: 2, 5: 2, 11: 1}"
      ]
     },
     "execution_count": 38,
     "metadata": {},
     "output_type": "execute_result"
    }
   ],
   "source": [
    "mmc_args(100, 22, 10)"
   ]
  },
  {
   "cell_type": "code",
   "execution_count": 39,
   "id": "5fe7664b",
   "metadata": {},
   "outputs": [
    {
     "name": "stdout",
     "output_type": "stream",
     "text": [
      "2^2 * 5^2 * 11\n"
     ]
    }
   ],
   "source": [
    "print_fatores_primos(mmc_args(100, 22, 10))"
   ]
  },
  {
   "cell_type": "code",
   "execution_count": 40,
   "id": "0b801863",
   "metadata": {},
   "outputs": [
    {
     "data": {
      "text/plain": [
       "{2: 3, 7: 1}"
      ]
     },
     "execution_count": 40,
     "metadata": {},
     "output_type": "execute_result"
    }
   ],
   "source": [
    "mmc_args(4, 8, 14)"
   ]
  },
  {
   "cell_type": "code",
   "execution_count": 41,
   "id": "99975a39",
   "metadata": {},
   "outputs": [
    {
     "name": "stdout",
     "output_type": "stream",
     "text": [
      "2^3 * 7\n"
     ]
    }
   ],
   "source": [
    "print_fatores_primos(mmc_args(4, 8, 14))"
   ]
  },
  {
   "cell_type": "code",
   "execution_count": 42,
   "id": "fc4fc4ec",
   "metadata": {},
   "outputs": [
    {
     "data": {
      "text/plain": [
       "{2: 3, 7: 1}"
      ]
     },
     "execution_count": 42,
     "metadata": {},
     "output_type": "execute_result"
    }
   ],
   "source": [
    "mmc_args(2, 4, 8, 14)"
   ]
  },
  {
   "cell_type": "code",
   "execution_count": 43,
   "id": "59c29c07",
   "metadata": {},
   "outputs": [
    {
     "name": "stdout",
     "output_type": "stream",
     "text": [
      "2^3 * 7\n"
     ]
    }
   ],
   "source": [
    "print_fatores_primos(mmc_args(2, 4, 8, 14))"
   ]
  },
  {
   "cell_type": "code",
   "execution_count": 44,
   "id": "ca7b9ecf",
   "metadata": {},
   "outputs": [
    {
     "data": {
      "text/plain": [
       "{2: 2, 3: 1, 5: 1, 7: 1}"
      ]
     },
     "execution_count": 44,
     "metadata": {},
     "output_type": "execute_result"
    }
   ],
   "source": [
    "mmc_args(2, 4, 5, 21)"
   ]
  },
  {
   "cell_type": "code",
   "execution_count": 45,
   "id": "f046d609",
   "metadata": {},
   "outputs": [
    {
     "name": "stdout",
     "output_type": "stream",
     "text": [
      "2^2 * 3 * 5 * 7\n"
     ]
    }
   ],
   "source": [
    "print_fatores_primos(mmc_args(2, 4, 5, 21))"
   ]
  },
  {
   "cell_type": "code",
   "execution_count": null,
   "id": "4084d6a4",
   "metadata": {},
   "outputs": [],
   "source": []
  }
 ],
 "metadata": {
  "kernelspec": {
   "display_name": "Python 3",
   "language": "python",
   "name": "python3"
  },
  "language_info": {
   "codemirror_mode": {
    "name": "ipython",
    "version": 3
   },
   "file_extension": ".py",
   "mimetype": "text/x-python",
   "name": "python",
   "nbconvert_exporter": "python",
   "pygments_lexer": "ipython3",
   "version": "3.8.11"
  }
 },
 "nbformat": 4,
 "nbformat_minor": 5
}
