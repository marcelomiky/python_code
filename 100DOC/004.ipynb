{
 "cells": [
  {
   "cell_type": "markdown",
   "id": "184f41c7",
   "metadata": {},
   "source": [
    "# Lambda Functions (Funções Anônimas)"
   ]
  },
  {
   "cell_type": "markdown",
   "id": "81ea0db0",
   "metadata": {},
   "source": [
    "https://realpython.com/python-lambda/"
   ]
  },
  {
   "cell_type": "markdown",
   "id": "5e4be2b9",
   "metadata": {},
   "source": [
    "Identity function. Returns its argument:"
   ]
  },
  {
   "cell_type": "code",
   "execution_count": 2,
   "id": "ee6df9a5",
   "metadata": {},
   "outputs": [],
   "source": [
    "def identity(x):\n",
    "    return x"
   ]
  },
  {
   "cell_type": "markdown",
   "id": "a7354f50",
   "metadata": {},
   "source": [
    "In contrast, if you use a Python Lambda Construction, you get the following:"
   ]
  },
  {
   "cell_type": "code",
   "execution_count": 3,
   "id": "2eb87439",
   "metadata": {},
   "outputs": [
    {
     "data": {
      "text/plain": [
       "<function __main__.<lambda>(x)>"
      ]
     },
     "execution_count": 3,
     "metadata": {},
     "output_type": "execute_result"
    }
   ],
   "source": [
    "lambda x: x"
   ]
  },
  {
   "cell_type": "markdown",
   "id": "7a873f70",
   "metadata": {},
   "source": [
    "In the example above, the expression is composed of:\n",
    "\n",
    "- The keyword: lambda\n",
    "- A bound variable: x\n",
    "- A body: x"
   ]
  },
  {
   "cell_type": "markdown",
   "id": "56247348",
   "metadata": {},
   "source": [
    "Now a function that adds 1 to an argument, as follows:"
   ]
  },
  {
   "cell_type": "code",
   "execution_count": 4,
   "id": "787ae010",
   "metadata": {},
   "outputs": [
    {
     "data": {
      "text/plain": [
       "<function __main__.<lambda>(x)>"
      ]
     },
     "execution_count": 4,
     "metadata": {},
     "output_type": "execute_result"
    }
   ],
   "source": [
    "lambda x: x + 1"
   ]
  },
  {
   "cell_type": "markdown",
   "id": "63377ad7",
   "metadata": {},
   "source": [
    "You can apply the function above to an argument by surrounding the function and its argument with parentheses:"
   ]
  },
  {
   "cell_type": "code",
   "execution_count": 5,
   "id": "a940de49",
   "metadata": {},
   "outputs": [
    {
     "data": {
      "text/plain": [
       "3"
      ]
     },
     "execution_count": 5,
     "metadata": {},
     "output_type": "execute_result"
    }
   ],
   "source": [
    "(lambda x: x + 1)(2)"
   ]
  },
  {
   "cell_type": "markdown",
   "id": "cd906a25",
   "metadata": {},
   "source": [
    "**Reduction** is a lambda calculus strategy to compute the value of the expression. In the current example, it consists of replacing the bound variable x with the argument 2:"
   ]
  },
  {
   "cell_type": "markdown",
   "id": "b43ce6f8",
   "metadata": {},
   "source": [
    "(lambda x: x + 1)(2) = lambda 2: 2 + 1\n",
    "                     = 2 + 1\n",
    "                     = 3"
   ]
  },
  {
   "cell_type": "markdown",
   "id": "87897b06",
   "metadata": {},
   "source": [
    "Because a lambda function is an expression, it can be named. Therefore you could write the previous code as follows:"
   ]
  },
  {
   "cell_type": "code",
   "execution_count": 6,
   "id": "c85cf4b3",
   "metadata": {},
   "outputs": [
    {
     "data": {
      "text/plain": [
       "3"
      ]
     },
     "execution_count": 6,
     "metadata": {},
     "output_type": "execute_result"
    }
   ],
   "source": [
    "add_one = lambda x: x + 1\n",
    "add_one(2)"
   ]
  },
  {
   "cell_type": "markdown",
   "id": "bf867234",
   "metadata": {},
   "source": [
    "The above lambda function is equivalent to writing this:"
   ]
  },
  {
   "cell_type": "code",
   "execution_count": 7,
   "id": "fde29142",
   "metadata": {},
   "outputs": [],
   "source": [
    "def add_one(x):\n",
    "    return x + 1"
   ]
  },
  {
   "cell_type": "markdown",
   "id": "8c7eba81",
   "metadata": {},
   "source": [
    "These functions all take a single argument. \n",
    "\n",
    "You may have noticed that, in the definition of the lambdas, the arguments don’t have parentheses around them. \n",
    "\n",
    "Multi-argument functions (functions that take more than one argument) are expressed in Python lambdas by listing arguments and separating them with a comma (,) but without surrounding them with parentheses:"
   ]
  },
  {
   "cell_type": "code",
   "execution_count": 8,
   "id": "949d6d55",
   "metadata": {},
   "outputs": [
    {
     "data": {
      "text/plain": [
       "'Full name: Guido Van Rossum'"
      ]
     },
     "execution_count": 8,
     "metadata": {},
     "output_type": "execute_result"
    }
   ],
   "source": [
    "full_name = lambda first, last: f'Full name: {first.title()} {last.title()}'\n",
    "full_name('guido', 'van rossum')"
   ]
  },
  {
   "cell_type": "markdown",
   "id": "31327209",
   "metadata": {},
   "source": [
    "The lambda function assigned to **full_name** takes two arguments and returns a string interpolating the two parameters first and last. As expected, the definition of the lambda lists the arguments with no parentheses, whereas calling the function is done exactly like a normal Python function, with parentheses surrounding the arguments."
   ]
  },
  {
   "cell_type": "markdown",
   "id": "be0386ba",
   "metadata": {},
   "source": [
    "An anonymous function is a function without a name. In Python, an anonymous function is created with the lambda keyword. More loosely, it may or not be assigned a name. Consider a two-argument anonymous function defined with lambda but not bound to a variable. The lambda is not given a name:"
   ]
  },
  {
   "cell_type": "code",
   "execution_count": 9,
   "id": "5223c1c9",
   "metadata": {},
   "outputs": [
    {
     "data": {
      "text/plain": [
       "<function __main__.<lambda>(x, y)>"
      ]
     },
     "execution_count": 9,
     "metadata": {},
     "output_type": "execute_result"
    }
   ],
   "source": [
    "lambda x, y: x + y"
   ]
  },
  {
   "cell_type": "markdown",
   "id": "3c0460f0",
   "metadata": {},
   "source": [
    "The function above defines a lambda expression that takes two arguments and returns their sum.\n",
    "\n",
    "Other than providing you with the feedback that Python is perfectly fine with this form, it doesn’t lead to any practical use. You could invoke the function in the Python interpreter:"
   ]
  },
  {
   "cell_type": "code",
   "execution_count": 10,
   "id": "92ec2d80",
   "metadata": {},
   "outputs": [
    {
     "data": {
      "text/plain": [
       "3"
      ]
     },
     "execution_count": 10,
     "metadata": {},
     "output_type": "execute_result"
    }
   ],
   "source": [
    "_(1, 2)"
   ]
  },
  {
   "cell_type": "markdown",
   "id": "e7ccc71e",
   "metadata": {},
   "source": [
    "Another pattern used in other languages like JavaScript is to immediately execute a Python lambda function. This is known as an Immediately Invoked Function Expression (IIFE, pronounce “iffy”). Here’s an example:"
   ]
  },
  {
   "cell_type": "code",
   "execution_count": 11,
   "id": "962aeeec",
   "metadata": {},
   "outputs": [
    {
     "data": {
      "text/plain": [
       "5"
      ]
     },
     "execution_count": 11,
     "metadata": {},
     "output_type": "execute_result"
    }
   ],
   "source": [
    "(lambda x, y: x + y)(2, 3)"
   ]
  },
  {
   "cell_type": "markdown",
   "id": "d86e74cd",
   "metadata": {},
   "source": [
    "Lambda functions are frequently used with higher-order functions, which take one or more functions as arguments or return one or more functions.\n",
    "\n",
    "A lambda function can be a higher-order function by taking a function (normal or lambda) as an argument like in the following contrived example:"
   ]
  },
  {
   "cell_type": "code",
   "execution_count": 12,
   "id": "f6670d14",
   "metadata": {},
   "outputs": [],
   "source": [
    "high_ord_func = lambda x, func: x + func(x)"
   ]
  },
  {
   "cell_type": "code",
   "execution_count": 13,
   "id": "56c10b93",
   "metadata": {},
   "outputs": [
    {
     "data": {
      "text/plain": [
       "6"
      ]
     },
     "execution_count": 13,
     "metadata": {},
     "output_type": "execute_result"
    }
   ],
   "source": [
    "high_ord_func(2, lambda x: x * x) # 2 + x * x = 2 + 2 * 2"
   ]
  },
  {
   "cell_type": "code",
   "execution_count": 15,
   "id": "c010bdb9",
   "metadata": {},
   "outputs": [
    {
     "data": {
      "text/plain": [
       "7"
      ]
     },
     "execution_count": 15,
     "metadata": {},
     "output_type": "execute_result"
    }
   ],
   "source": [
    "high_ord_func(2, lambda x: x + 3) # 2 + 2 + 3 = 7"
   ]
  },
  {
   "cell_type": "markdown",
   "id": "7ee54b4a",
   "metadata": {},
   "source": [
    "The dis (https://docs.python.org/3/library/dis.html) module exposes functions to analyze Python bytecode generated by the Python compiler:"
   ]
  },
  {
   "cell_type": "code",
   "execution_count": 24,
   "id": "38d56696",
   "metadata": {},
   "outputs": [],
   "source": [
    "import dis\n",
    "add = lambda x, y: x + y"
   ]
  },
  {
   "cell_type": "code",
   "execution_count": 25,
   "id": "a421f9e1",
   "metadata": {},
   "outputs": [
    {
     "data": {
      "text/plain": [
       "function"
      ]
     },
     "execution_count": 25,
     "metadata": {},
     "output_type": "execute_result"
    }
   ],
   "source": [
    "type(add)"
   ]
  },
  {
   "cell_type": "code",
   "execution_count": 26,
   "id": "8bd8d138",
   "metadata": {},
   "outputs": [
    {
     "name": "stdout",
     "output_type": "stream",
     "text": [
      "  2           0 LOAD_FAST                0 (x)\n",
      "              2 LOAD_FAST                1 (y)\n",
      "              4 BINARY_ADD\n",
      "              6 RETURN_VALUE\n"
     ]
    }
   ],
   "source": [
    "dis.dis(add)"
   ]
  },
  {
   "cell_type": "code",
   "execution_count": 27,
   "id": "be3908f7",
   "metadata": {},
   "outputs": [
    {
     "data": {
      "text/plain": [
       "<function __main__.<lambda>(x, y)>"
      ]
     },
     "execution_count": 27,
     "metadata": {},
     "output_type": "execute_result"
    }
   ],
   "source": [
    "add"
   ]
  },
  {
   "cell_type": "markdown",
   "id": "303203e6",
   "metadata": {},
   "source": [
    "You can see that dis() expose a readable version of the Python bytecode allowing the inspection of the low-level instructions that the Python interpreter will use while executing the program."
   ]
  },
  {
   "cell_type": "code",
   "execution_count": null,
   "id": "56e94771",
   "metadata": {},
   "outputs": [],
   "source": []
  },
  {
   "cell_type": "markdown",
   "id": "a576e6ae",
   "metadata": {},
   "source": [
    "**Single Expression**\n",
    "\n",
    "In contrast to a normal function, a Python lambda function is a single expression. Although, in the body of a lambda, you can spread the expression over several lines using parentheses or a multiline string, it remains a single expression:"
   ]
  },
  {
   "cell_type": "code",
   "execution_count": 29,
   "id": "39811b63",
   "metadata": {},
   "outputs": [
    {
     "data": {
      "text/plain": [
       "'odd'"
      ]
     },
     "execution_count": 29,
     "metadata": {},
     "output_type": "execute_result"
    }
   ],
   "source": [
    "(lambda x: (x % 2 and 'odd' or 'even'))(3)"
   ]
  },
  {
   "cell_type": "markdown",
   "id": "81a9d079",
   "metadata": {},
   "source": [
    "**Type Annotations**\n",
    "\n",
    "If you’ve started adopting type hinting, which is now available in Python, then you have another good reason to prefer normal functions over Python lambda functions. Check out Python Type Checking (Guide) to get learn more about Python type hints and type checking. In a lambda function, there is no equivalent for the following:"
   ]
  },
  {
   "cell_type": "code",
   "execution_count": 31,
   "id": "9b49fd02",
   "metadata": {},
   "outputs": [],
   "source": [
    "def full_name(first: str, last: str) -> str:\n",
    "    return f'{first.title()} {last.title()}'"
   ]
  },
  {
   "cell_type": "code",
   "execution_count": 32,
   "id": "fc9b9df2",
   "metadata": {},
   "outputs": [
    {
     "data": {
      "text/plain": [
       "'Mike Patton'"
      ]
     },
     "execution_count": 32,
     "metadata": {},
     "output_type": "execute_result"
    }
   ],
   "source": [
    "full_name(\"Mike\", \"Patton\")"
   ]
  },
  {
   "cell_type": "markdown",
   "id": "e1b81926",
   "metadata": {},
   "source": [
    "**Arguments**\n",
    "\n",
    "Like a normal function object defined with def, Python lambda expressions support all the different ways of passing arguments. This includes:\n",
    "\n",
    "- Positional arguments\n",
    "- Named arguments (sometimes called keyword arguments)\n",
    "- Variable list of arguments (often referred to as varargs)\n",
    "- Variable list of keyword arguments\n",
    "- Keyword-only arguments\n",
    "\n",
    "The following examples illustrate options open to you in order to pass arguments to lambda expressions:"
   ]
  },
  {
   "cell_type": "code",
   "execution_count": 33,
   "id": "c6bba1b8",
   "metadata": {},
   "outputs": [
    {
     "data": {
      "text/plain": [
       "6"
      ]
     },
     "execution_count": 33,
     "metadata": {},
     "output_type": "execute_result"
    }
   ],
   "source": [
    "(lambda x, y, z: x + y + z)(1, 2, 3)"
   ]
  },
  {
   "cell_type": "code",
   "execution_count": 34,
   "id": "f5327123",
   "metadata": {},
   "outputs": [
    {
     "data": {
      "text/plain": [
       "6"
      ]
     },
     "execution_count": 34,
     "metadata": {},
     "output_type": "execute_result"
    }
   ],
   "source": [
    "(lambda x, y, z=3: x + y + z)(1, 2)"
   ]
  },
  {
   "cell_type": "code",
   "execution_count": 35,
   "id": "66c0bd0a",
   "metadata": {},
   "outputs": [
    {
     "data": {
      "text/plain": [
       "6"
      ]
     },
     "execution_count": 35,
     "metadata": {},
     "output_type": "execute_result"
    }
   ],
   "source": [
    "(lambda x, y, z=3: x + y + z)(1, y=2)"
   ]
  },
  {
   "cell_type": "code",
   "execution_count": 36,
   "id": "0e245912",
   "metadata": {},
   "outputs": [
    {
     "data": {
      "text/plain": [
       "6"
      ]
     },
     "execution_count": 36,
     "metadata": {},
     "output_type": "execute_result"
    }
   ],
   "source": [
    "(lambda *args: sum(args))(1,2,3)"
   ]
  },
  {
   "cell_type": "code",
   "execution_count": 37,
   "id": "eed99204",
   "metadata": {},
   "outputs": [
    {
     "data": {
      "text/plain": [
       "6"
      ]
     },
     "execution_count": 37,
     "metadata": {},
     "output_type": "execute_result"
    }
   ],
   "source": [
    "(lambda **kwargs: sum(kwargs.values()))(one=1, two=2, three=3)"
   ]
  },
  {
   "cell_type": "code",
   "execution_count": 38,
   "id": "7df1a190",
   "metadata": {},
   "outputs": [
    {
     "data": {
      "text/plain": [
       "6"
      ]
     },
     "execution_count": 38,
     "metadata": {},
     "output_type": "execute_result"
    }
   ],
   "source": [
    "(lambda x, *, y=0, z=0: x + y + z)(1, y=2, z=3)"
   ]
  },
  {
   "cell_type": "code",
   "execution_count": null,
   "id": "09581032",
   "metadata": {},
   "outputs": [],
   "source": []
  },
  {
   "cell_type": "markdown",
   "id": "e18bb8bd",
   "metadata": {},
   "source": [
    "Classic Functional Constructs\n",
    "\n",
    "Lambda functions are regularly used with the built-in functions map() and filter(), as well as functools.reduce(), exposed in the module functools. The following three examples are respective illustrations of using those functions with lambda expressions as companions:"
   ]
  },
  {
   "cell_type": "code",
   "execution_count": 39,
   "id": "32e99314",
   "metadata": {},
   "outputs": [
    {
     "data": {
      "text/plain": [
       "['CAT', 'DOG', 'COW']"
      ]
     },
     "execution_count": 39,
     "metadata": {},
     "output_type": "execute_result"
    }
   ],
   "source": [
    "list(map(lambda x: x.upper(), ['cat', 'dog', 'cow']))"
   ]
  },
  {
   "cell_type": "code",
   "execution_count": 44,
   "id": "93c2e4b2",
   "metadata": {},
   "outputs": [
    {
     "data": {
      "text/plain": [
       "['Cat', 'Dog', 'Cow']"
      ]
     },
     "execution_count": 44,
     "metadata": {},
     "output_type": "execute_result"
    }
   ],
   "source": [
    "list(map(lambda x: x.capitalize(), ['cat', 'dog', 'cow']))"
   ]
  },
  {
   "cell_type": "code",
   "execution_count": 45,
   "id": "865a817b",
   "metadata": {},
   "outputs": [
    {
     "data": {
      "text/plain": [
       "['Cat', 'Dog', 'Cow']"
      ]
     },
     "execution_count": 45,
     "metadata": {},
     "output_type": "execute_result"
    }
   ],
   "source": [
    "[x.capitalize() for x in ['cat', 'dog', 'cow']]"
   ]
  },
  {
   "cell_type": "code",
   "execution_count": 40,
   "id": "a9e5c94c",
   "metadata": {},
   "outputs": [
    {
     "data": {
      "text/plain": [
       "['dog', 'cow']"
      ]
     },
     "execution_count": 40,
     "metadata": {},
     "output_type": "execute_result"
    }
   ],
   "source": [
    "list(filter(lambda x: 'o' in x, ['cat', 'dog', 'cow']))"
   ]
  },
  {
   "cell_type": "code",
   "execution_count": 43,
   "id": "0ace65bb",
   "metadata": {},
   "outputs": [
    {
     "data": {
      "text/plain": [
       "'cat | dog | cow'"
      ]
     },
     "execution_count": 43,
     "metadata": {},
     "output_type": "execute_result"
    }
   ],
   "source": [
    "from functools import reduce\n",
    "reduce(lambda acc, x: f'{acc} | {x}', ['cat', 'dog', 'cow'])"
   ]
  },
  {
   "cell_type": "code",
   "execution_count": null,
   "id": "a8d905b2",
   "metadata": {},
   "outputs": [],
   "source": []
  },
  {
   "cell_type": "markdown",
   "id": "70d2d325",
   "metadata": {},
   "source": [
    "**Filter**\n",
    "\n",
    "The built-in function filter(), another classic functional construct, can be converted into a list comprehension. It takes a predicate as a first argument and an iterable as a second argument. It builds an iterator containing all the elements of the initial collection that satisfies the predicate function. Here’s an example that filters all the even numbers in a given list of integers:"
   ]
  },
  {
   "cell_type": "code",
   "execution_count": 46,
   "id": "51cfa475",
   "metadata": {},
   "outputs": [
    {
     "data": {
      "text/plain": [
       "[0, 2, 4, 6, 8, 10]"
      ]
     },
     "execution_count": 46,
     "metadata": {},
     "output_type": "execute_result"
    }
   ],
   "source": [
    "even = lambda x: x%2 == 0\n",
    "list(filter(even, range(11)))"
   ]
  },
  {
   "cell_type": "code",
   "execution_count": 47,
   "id": "0caf92e0",
   "metadata": {},
   "outputs": [
    {
     "data": {
      "text/plain": [
       "[0, 2, 4, 6, 8, 10]"
      ]
     },
     "execution_count": 47,
     "metadata": {},
     "output_type": "execute_result"
    }
   ],
   "source": [
    "[x for x in range(11) if x%2 == 0]"
   ]
  },
  {
   "cell_type": "code",
   "execution_count": null,
   "id": "fc2802a2",
   "metadata": {},
   "outputs": [],
   "source": []
  },
  {
   "cell_type": "markdown",
   "id": "d762e290",
   "metadata": {},
   "source": [
    "**Reduce**\n",
    "\n",
    "Since Python 3, reduce() has gone from a built-in function to a functools module function. As map() and filter(), its first two arguments are respectively a function and an iterable. It may also take an initializer as a third argument that is used as the initial value of the resulting accumulator. For each element of the iterable, reduce() applies the function and accumulates the result that is returned when the iterable is exhausted.\n",
    "\n",
    "To apply reduce() to a list of pairs and calculate the sum of the first item of each pair, you could write this:"
   ]
  },
  {
   "cell_type": "code",
   "execution_count": 48,
   "id": "cc5fdc52",
   "metadata": {},
   "outputs": [
    {
     "data": {
      "text/plain": [
       "6"
      ]
     },
     "execution_count": 48,
     "metadata": {},
     "output_type": "execute_result"
    }
   ],
   "source": [
    "import functools\n",
    "pairs = [(1, 'a'), (2, 'b'), (3, 'c')]\n",
    "functools.reduce(lambda acc, pair: acc + pair[0], pairs, 0)"
   ]
  },
  {
   "cell_type": "markdown",
   "id": "8a5b9a43",
   "metadata": {},
   "source": [
    "A more idiomatic approach using a generator expression, as an argument to sum() in the example, is the following:"
   ]
  },
  {
   "cell_type": "code",
   "execution_count": 49,
   "id": "ae831a6a",
   "metadata": {},
   "outputs": [
    {
     "data": {
      "text/plain": [
       "6"
      ]
     },
     "execution_count": 49,
     "metadata": {},
     "output_type": "execute_result"
    }
   ],
   "source": [
    "pairs = [(1, 'a'), (2, 'b'), (3, 'c')]\n",
    "sum(x[0] for x in pairs)"
   ]
  },
  {
   "cell_type": "code",
   "execution_count": 50,
   "id": "54e3b5ab",
   "metadata": {},
   "outputs": [
    {
     "data": {
      "text/plain": [
       "6"
      ]
     },
     "execution_count": 50,
     "metadata": {},
     "output_type": "execute_result"
    }
   ],
   "source": [
    "pairs = [(1, 'a'), (2, 'b'), (3, 'c')]\n",
    "sum(x for x, _ in pairs)"
   ]
  },
  {
   "cell_type": "code",
   "execution_count": null,
   "id": "35b7680a",
   "metadata": {},
   "outputs": [],
   "source": []
  },
  {
   "cell_type": "code",
   "execution_count": null,
   "id": "887b81ab",
   "metadata": {},
   "outputs": [],
   "source": []
  },
  {
   "cell_type": "code",
   "execution_count": null,
   "id": "2d4df335",
   "metadata": {},
   "outputs": [],
   "source": []
  },
  {
   "cell_type": "code",
   "execution_count": null,
   "id": "4e9dd987",
   "metadata": {},
   "outputs": [],
   "source": []
  },
  {
   "cell_type": "code",
   "execution_count": null,
   "id": "403dbb4a",
   "metadata": {},
   "outputs": [],
   "source": []
  },
  {
   "cell_type": "code",
   "execution_count": null,
   "id": "23e82507",
   "metadata": {},
   "outputs": [],
   "source": []
  },
  {
   "cell_type": "code",
   "execution_count": null,
   "id": "e1ff616b",
   "metadata": {},
   "outputs": [],
   "source": []
  },
  {
   "cell_type": "code",
   "execution_count": 18,
   "id": "65930cd1",
   "metadata": {},
   "outputs": [],
   "source": [
    "def twice(f):\n",
    "    def result(x):\n",
    "        return f(f(x))\n",
    "    return result"
   ]
  },
  {
   "cell_type": "code",
   "execution_count": 21,
   "id": "eccf969c",
   "metadata": {},
   "outputs": [],
   "source": [
    "plus_three = lambda i: i + 3"
   ]
  },
  {
   "cell_type": "code",
   "execution_count": 22,
   "id": "114f944b",
   "metadata": {},
   "outputs": [],
   "source": [
    "g = twice(plus_three)"
   ]
  },
  {
   "cell_type": "code",
   "execution_count": 23,
   "id": "3b8677d8",
   "metadata": {},
   "outputs": [
    {
     "data": {
      "text/plain": [
       "13"
      ]
     },
     "execution_count": 23,
     "metadata": {},
     "output_type": "execute_result"
    }
   ],
   "source": [
    "g(7)"
   ]
  },
  {
   "cell_type": "code",
   "execution_count": null,
   "id": "23fbd055",
   "metadata": {},
   "outputs": [],
   "source": []
  },
  {
   "cell_type": "code",
   "execution_count": 19,
   "id": "881d45bb",
   "metadata": {},
   "outputs": [],
   "source": [
    "@twice\n",
    "def g(i):\n",
    "    return i + 3"
   ]
  },
  {
   "cell_type": "code",
   "execution_count": 20,
   "id": "2edf51e5",
   "metadata": {},
   "outputs": [
    {
     "data": {
      "text/plain": [
       "13"
      ]
     },
     "execution_count": 20,
     "metadata": {},
     "output_type": "execute_result"
    }
   ],
   "source": [
    "g(7)"
   ]
  },
  {
   "cell_type": "code",
   "execution_count": null,
   "id": "c2574f97",
   "metadata": {},
   "outputs": [],
   "source": []
  },
  {
   "cell_type": "code",
   "execution_count": null,
   "id": "676bbd28",
   "metadata": {},
   "outputs": [],
   "source": []
  },
  {
   "cell_type": "code",
   "execution_count": null,
   "id": "97274767",
   "metadata": {},
   "outputs": [],
   "source": []
  },
  {
   "cell_type": "code",
   "execution_count": null,
   "id": "b24a6722",
   "metadata": {},
   "outputs": [],
   "source": []
  },
  {
   "cell_type": "code",
   "execution_count": null,
   "id": "0678dfd6",
   "metadata": {},
   "outputs": [],
   "source": []
  },
  {
   "cell_type": "code",
   "execution_count": null,
   "id": "c91498d6",
   "metadata": {},
   "outputs": [],
   "source": []
  },
  {
   "cell_type": "code",
   "execution_count": null,
   "id": "91052cf5",
   "metadata": {},
   "outputs": [],
   "source": []
  },
  {
   "cell_type": "code",
   "execution_count": null,
   "id": "a102b964",
   "metadata": {},
   "outputs": [],
   "source": []
  },
  {
   "cell_type": "code",
   "execution_count": null,
   "id": "148ba2a2",
   "metadata": {},
   "outputs": [],
   "source": []
  },
  {
   "cell_type": "code",
   "execution_count": null,
   "id": "69d03a51",
   "metadata": {},
   "outputs": [],
   "source": []
  },
  {
   "cell_type": "code",
   "execution_count": null,
   "id": "0160d349",
   "metadata": {},
   "outputs": [],
   "source": []
  }
 ],
 "metadata": {
  "kernelspec": {
   "display_name": "Python 3",
   "language": "python",
   "name": "python3"
  },
  "language_info": {
   "codemirror_mode": {
    "name": "ipython",
    "version": 3
   },
   "file_extension": ".py",
   "mimetype": "text/x-python",
   "name": "python",
   "nbconvert_exporter": "python",
   "pygments_lexer": "ipython3",
   "version": "3.8.11"
  }
 },
 "nbformat": 4,
 "nbformat_minor": 5
}
