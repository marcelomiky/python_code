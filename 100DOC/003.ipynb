{
 "cells": [
  {
   "cell_type": "code",
   "execution_count": 1,
   "id": "ab3b9e4d",
   "metadata": {},
   "outputs": [],
   "source": [
    "def divisores(n):\n",
    "    \n",
    "    lista_divisores = [1]  # pois o 1 sempre será divisor\n",
    "    \n",
    "    for i in range(2, n-1):\n",
    "        if n % i == 0:\n",
    "            lista_divisores.append(i)\n",
    "    \n",
    "    lista_divisores.append(n) # pois o próprio número será divisor dele mesmo\n",
    "    \n",
    "    return lista_divisores"
   ]
  },
  {
   "cell_type": "code",
   "execution_count": 2,
   "id": "fd0fd69b",
   "metadata": {},
   "outputs": [
    {
     "data": {
      "text/plain": [
       "[1, 2, 5, 10]"
      ]
     },
     "execution_count": 2,
     "metadata": {},
     "output_type": "execute_result"
    }
   ],
   "source": [
    "divisores(10)"
   ]
  },
  {
   "cell_type": "code",
   "execution_count": 3,
   "id": "3d936f92",
   "metadata": {},
   "outputs": [],
   "source": [
    "import collections\n",
    "\n",
    "def mdc(*numeros):\n",
    "    \n",
    "    lista_divisores_todos = list()\n",
    "    \n",
    "    for i in numeros:\n",
    "        lista_divisores_todos.append(divisores(i))\n",
    "    \n",
    "    flat_list = [item for sublist in lista_divisores_todos for item in sublist]\n",
    "    \n",
    "    intersection = [item for item, count in collections.Counter(flat_list).items() if count > len(numeros) - 1]\n",
    "        \n",
    "    intersection.sort()\n",
    "       \n",
    "    return intersection[-1] "
   ]
  },
  {
   "cell_type": "code",
   "execution_count": 4,
   "id": "4fdf446b",
   "metadata": {},
   "outputs": [
    {
     "data": {
      "text/plain": [
       "2"
      ]
     },
     "execution_count": 4,
     "metadata": {},
     "output_type": "execute_result"
    }
   ],
   "source": [
    "mdc(50, 100, 38)"
   ]
  },
  {
   "cell_type": "code",
   "execution_count": 5,
   "id": "57d55984",
   "metadata": {},
   "outputs": [
    {
     "data": {
      "text/plain": [
       "10"
      ]
     },
     "execution_count": 5,
     "metadata": {},
     "output_type": "execute_result"
    }
   ],
   "source": [
    "mdc(10, 20, 30)"
   ]
  },
  {
   "cell_type": "code",
   "execution_count": 6,
   "id": "60945b46",
   "metadata": {},
   "outputs": [
    {
     "data": {
      "text/plain": [
       "20"
      ]
     },
     "execution_count": 6,
     "metadata": {},
     "output_type": "execute_result"
    }
   ],
   "source": [
    "mdc(20, 40, 60, 80)"
   ]
  },
  {
   "cell_type": "code",
   "execution_count": null,
   "id": "c15f5a6d",
   "metadata": {},
   "outputs": [],
   "source": []
  },
  {
   "cell_type": "code",
   "execution_count": 7,
   "id": "bf47ac96",
   "metadata": {},
   "outputs": [],
   "source": [
    "def is_prime(x):\n",
    "    n = 0\n",
    "    for i in range(1, x+1):\n",
    "        if x % i == 0:\n",
    "            n += 1\n",
    "    \n",
    "    if n > 2:\n",
    "        return False\n",
    "    else:\n",
    "        return True"
   ]
  },
  {
   "cell_type": "code",
   "execution_count": 8,
   "id": "0a1d45bb",
   "metadata": {},
   "outputs": [],
   "source": [
    "# Lista de todos os números primos dado um número, de 2 até este número:\n",
    "\n",
    "def lista_primos(x):\n",
    "    \n",
    "    lista = []\n",
    "    \n",
    "    for i in range(2, x+1):\n",
    "        if is_prime(i):\n",
    "            lista.append(i)\n",
    "    \n",
    "    return lista        "
   ]
  },
  {
   "cell_type": "code",
   "execution_count": 9,
   "id": "33981f40",
   "metadata": {},
   "outputs": [],
   "source": [
    "def fatores_primos(x):\n",
    "    \n",
    "    lista_primos_in = lista_primos(x)\n",
    "    \n",
    "    lista_fatores_primos = []\n",
    "    \n",
    "    for i in lista_primos_in:\n",
    "        while x % i == 0:\n",
    "            lista_fatores_primos.append(i)\n",
    "            x = x / i\n",
    "    \n",
    "    return lista_fatores_primos"
   ]
  },
  {
   "cell_type": "code",
   "execution_count": 10,
   "id": "c3ac477d",
   "metadata": {},
   "outputs": [],
   "source": [
    "def fatores_primos_dict(x):\n",
    "    \n",
    "    lista_fatores_primos = fatores_primos(x)\n",
    "    \n",
    "    valores_unicos = set(lista_fatores_primos)\n",
    "    \n",
    "    fatores_primos_dict = {}\n",
    "    count = 0\n",
    "    \n",
    "    for i in valores_unicos:\n",
    "        for j in lista_fatores_primos:\n",
    "            if i == j:\n",
    "                count += 1\n",
    "        fatores_primos_dict[i] = count\n",
    "        count = 0\n",
    "    \n",
    "    return fatores_primos_dict"
   ]
  },
  {
   "cell_type": "code",
   "execution_count": 52,
   "id": "8719c4f9",
   "metadata": {},
   "outputs": [],
   "source": [
    "def print_fatores_primos(x_dict):\n",
    "        \n",
    "    string_to_print = \"\"\n",
    "    \n",
    "    for i in x_dict:\n",
    "        if x_dict[i] == 1:  # para não exibir o elevado a 1 (^1)\n",
    "            string_to_print += \"{} * \".format(i)  \n",
    "        else:\n",
    "            string_to_print += \"{}^{} * \".format(i, x_dict[i])\n",
    "   \n",
    "    string_to_print = string_to_print[:-3]  # para retirar o último asterísco\n",
    "    \n",
    "    result_to_print = str(recompor_fator_primo(x_dict))\n",
    "    \n",
    "    print(string_to_print + \" = \" + result_to_print)"
   ]
  },
  {
   "cell_type": "code",
   "execution_count": 12,
   "id": "825040d6",
   "metadata": {},
   "outputs": [],
   "source": [
    "# Mínimo Múltiplo Comum de n números\n",
    "\n",
    "def mmc_args(*numeros):\n",
    "    \n",
    "    lista_fatores_primos_todos = list()\n",
    "    \n",
    "    for i in numeros:\n",
    "        lista_fatores_primos_todos.append(fatores_primos(i))\n",
    "    \n",
    "    flat_list = [item for sublist in lista_fatores_primos_todos for item in sublist]\n",
    "    \n",
    "    union = list(set(flat_list))\n",
    "    union.sort()\n",
    "    \n",
    "    mmc_dict = {}\n",
    "    count = 0\n",
    "    \n",
    "    for i in union:\n",
    "        for j in range(len(lista_fatores_primos_todos)):\n",
    "            if lista_fatores_primos_todos[j].count(i) > count:\n",
    "                count = lista_fatores_primos_todos[j].count(i)\n",
    "        mmc_dict[i] = count\n",
    "        count = 0\n",
    "\n",
    "    return mmc_dict"
   ]
  },
  {
   "cell_type": "code",
   "execution_count": 13,
   "id": "c35022c2",
   "metadata": {},
   "outputs": [
    {
     "data": {
      "text/plain": [
       "{3: 2, 7: 1, 13: 1}"
      ]
     },
     "execution_count": 13,
     "metadata": {},
     "output_type": "execute_result"
    }
   ],
   "source": [
    "mmc_args(39, 9, 7)"
   ]
  },
  {
   "cell_type": "code",
   "execution_count": 53,
   "id": "160cbfe6",
   "metadata": {},
   "outputs": [
    {
     "name": "stdout",
     "output_type": "stream",
     "text": [
      "3^2 * 7 * 13 = 819\n"
     ]
    }
   ],
   "source": [
    "print_fatores_primos(mmc_args(39, 9, 7))"
   ]
  },
  {
   "cell_type": "code",
   "execution_count": 15,
   "id": "18d2fb4f",
   "metadata": {},
   "outputs": [
    {
     "data": {
      "text/plain": [
       "{2: 1, 3: 1, 5: 1}"
      ]
     },
     "execution_count": 15,
     "metadata": {},
     "output_type": "execute_result"
    }
   ],
   "source": [
    "mmc_args(2, 5, 6)"
   ]
  },
  {
   "cell_type": "code",
   "execution_count": 55,
   "id": "2a3d3860",
   "metadata": {},
   "outputs": [
    {
     "name": "stdout",
     "output_type": "stream",
     "text": [
      "2 * 3 * 5 = 30\n"
     ]
    }
   ],
   "source": [
    "print_fatores_primos(mmc_args(2, 5, 6))"
   ]
  },
  {
   "cell_type": "code",
   "execution_count": 17,
   "id": "059b2bc0",
   "metadata": {},
   "outputs": [
    {
     "data": {
      "text/plain": [
       "{3: 1, 5: 1}"
      ]
     },
     "execution_count": 17,
     "metadata": {},
     "output_type": "execute_result"
    }
   ],
   "source": [
    "mmc_args(15, 5, 3)"
   ]
  },
  {
   "cell_type": "code",
   "execution_count": 56,
   "id": "ba477b9a",
   "metadata": {},
   "outputs": [
    {
     "name": "stdout",
     "output_type": "stream",
     "text": [
      "3 * 5 = 15\n"
     ]
    }
   ],
   "source": [
    "print_fatores_primos(mmc_args(15, 5, 3))"
   ]
  },
  {
   "cell_type": "code",
   "execution_count": 19,
   "id": "e980632c",
   "metadata": {},
   "outputs": [
    {
     "data": {
      "text/plain": [
       "{2: 1, 3: 1, 7: 1}"
      ]
     },
     "execution_count": 19,
     "metadata": {},
     "output_type": "execute_result"
    }
   ],
   "source": [
    "mmc_args(3, 2, 21)"
   ]
  },
  {
   "cell_type": "code",
   "execution_count": 57,
   "id": "1bb9e1f8",
   "metadata": {},
   "outputs": [
    {
     "name": "stdout",
     "output_type": "stream",
     "text": [
      "2 * 3 * 7 = 42\n"
     ]
    }
   ],
   "source": [
    "print_fatores_primos(mmc_args(3, 2, 21))"
   ]
  },
  {
   "cell_type": "code",
   "execution_count": 21,
   "id": "167b9611",
   "metadata": {},
   "outputs": [
    {
     "data": {
      "text/plain": [
       "{2: 2, 5: 2, 11: 1}"
      ]
     },
     "execution_count": 21,
     "metadata": {},
     "output_type": "execute_result"
    }
   ],
   "source": [
    "mmc_args(100, 22, 10)"
   ]
  },
  {
   "cell_type": "code",
   "execution_count": 58,
   "id": "5fe7664b",
   "metadata": {},
   "outputs": [
    {
     "name": "stdout",
     "output_type": "stream",
     "text": [
      "2^2 * 5^2 * 11 = 1100\n"
     ]
    }
   ],
   "source": [
    "print_fatores_primos(mmc_args(100, 22, 10))"
   ]
  },
  {
   "cell_type": "code",
   "execution_count": 23,
   "id": "0b801863",
   "metadata": {},
   "outputs": [
    {
     "data": {
      "text/plain": [
       "{2: 3, 7: 1}"
      ]
     },
     "execution_count": 23,
     "metadata": {},
     "output_type": "execute_result"
    }
   ],
   "source": [
    "mmc_args(4, 8, 14)"
   ]
  },
  {
   "cell_type": "code",
   "execution_count": 59,
   "id": "99975a39",
   "metadata": {},
   "outputs": [
    {
     "name": "stdout",
     "output_type": "stream",
     "text": [
      "2^3 * 7 = 56\n"
     ]
    }
   ],
   "source": [
    "print_fatores_primos(mmc_args(4, 8, 14))"
   ]
  },
  {
   "cell_type": "code",
   "execution_count": 60,
   "id": "fc4fc4ec",
   "metadata": {},
   "outputs": [
    {
     "data": {
      "text/plain": [
       "{2: 3, 7: 1}"
      ]
     },
     "execution_count": 60,
     "metadata": {},
     "output_type": "execute_result"
    }
   ],
   "source": [
    "mmc_args(2, 4, 8, 14)"
   ]
  },
  {
   "cell_type": "code",
   "execution_count": 61,
   "id": "59c29c07",
   "metadata": {},
   "outputs": [
    {
     "name": "stdout",
     "output_type": "stream",
     "text": [
      "2^3 * 7 = 56\n"
     ]
    }
   ],
   "source": [
    "print_fatores_primos(mmc_args(2, 4, 8, 14))"
   ]
  },
  {
   "cell_type": "code",
   "execution_count": 62,
   "id": "ca7b9ecf",
   "metadata": {},
   "outputs": [
    {
     "data": {
      "text/plain": [
       "{2: 2, 3: 1, 5: 1, 7: 1}"
      ]
     },
     "execution_count": 62,
     "metadata": {},
     "output_type": "execute_result"
    }
   ],
   "source": [
    "mmc_args(2, 4, 5, 21)"
   ]
  },
  {
   "cell_type": "code",
   "execution_count": 63,
   "id": "f046d609",
   "metadata": {},
   "outputs": [
    {
     "name": "stdout",
     "output_type": "stream",
     "text": [
      "2^2 * 3 * 5 * 7 = 420\n"
     ]
    }
   ],
   "source": [
    "print_fatores_primos(mmc_args(2, 4, 5, 21))"
   ]
  },
  {
   "cell_type": "code",
   "execution_count": 64,
   "id": "4084d6a4",
   "metadata": {},
   "outputs": [],
   "source": [
    "import doctest"
   ]
  },
  {
   "cell_type": "code",
   "execution_count": 65,
   "id": "9a1f9435",
   "metadata": {},
   "outputs": [],
   "source": [
    "# x: dict com a chave sendo a base, o value sendo o expoente. Ex: {2: 2, 3: 1, 5: 1, 7: 1}\n",
    "def recompor_fator_primo(x):\n",
    "    \n",
    "    \"\"\"\n",
    "    >>> recompor_fator_primo(mmc_args(2, 4, 8, 14))\n",
    "    56\n",
    "    >>> recompor_fator_primo(mmc_args(2, 4, 5, 21))\n",
    "    420\n",
    "    >>> recompor_fator_primo(mmc_args(3, 2, 21))\n",
    "    42\n",
    "    \"\"\"\n",
    "    \n",
    "    \n",
    "    mult = 1\n",
    "    \n",
    "    for key, value in x.items():\n",
    "        mult *= key ** value\n",
    "    \n",
    "    return mult    "
   ]
  },
  {
   "cell_type": "code",
   "execution_count": 66,
   "id": "26bd79e1",
   "metadata": {},
   "outputs": [
    {
     "data": {
      "text/plain": [
       "TestResults(failed=0, attempted=3)"
      ]
     },
     "execution_count": 66,
     "metadata": {},
     "output_type": "execute_result"
    }
   ],
   "source": [
    "doctest.testmod()"
   ]
  },
  {
   "cell_type": "code",
   "execution_count": null,
   "id": "84f8bfc8",
   "metadata": {},
   "outputs": [],
   "source": []
  },
  {
   "cell_type": "markdown",
   "id": "9594f229",
   "metadata": {},
   "source": [
    "# Simplicando fração"
   ]
  },
  {
   "cell_type": "code",
   "execution_count": 113,
   "id": "9028cd0b",
   "metadata": {},
   "outputs": [],
   "source": [
    "# x é uma tupla com dois valores, o primeiro o numerador, o segundo o denominador\n",
    "def simplifica_fracao(x):\n",
    "    \n",
    "    \"\"\"\n",
    "    >>> simplifica_fracao((2, 4))\n",
    "    (1, 2)\n",
    "    >>> simplifica_fracao((9, 3))\n",
    "    3\n",
    "    >>> simplifica_fracao((4, 12))\n",
    "    (1, 3)\n",
    "    >>> simplifica_fracao((9, 4))\n",
    "    (9, 4)\n",
    "    >>> simplifica_fracao((3, 9))\n",
    "    (1, 3)\n",
    "    >>> simplifica_fracao((10, 5))\n",
    "    2\n",
    "    \"\"\"\n",
    "    \n",
    "    mdc_frac = mdc(x[0], x[1])\n",
    "    \n",
    "    num = int(x[0]/mdc_frac)\n",
    "    den = int(x[1]/mdc_frac)\n",
    "    \n",
    "    if den == 1:\n",
    "        return num\n",
    "    else:\n",
    "        return (num, den)"
   ]
  },
  {
   "cell_type": "code",
   "execution_count": 114,
   "id": "32c7399f",
   "metadata": {},
   "outputs": [
    {
     "data": {
      "text/plain": [
       "TestResults(failed=0, attempted=9)"
      ]
     },
     "execution_count": 114,
     "metadata": {},
     "output_type": "execute_result"
    }
   ],
   "source": [
    "doctest.testmod()"
   ]
  },
  {
   "cell_type": "code",
   "execution_count": null,
   "id": "1417efa8",
   "metadata": {},
   "outputs": [],
   "source": []
  },
  {
   "cell_type": "markdown",
   "id": "37dddce9",
   "metadata": {},
   "source": [
    "# Operações com Frações"
   ]
  },
  {
   "cell_type": "code",
   "execution_count": 115,
   "id": "49013eb0",
   "metadata": {},
   "outputs": [],
   "source": [
    "def checa_igualdade_denominador_fracoes(x, y):\n",
    "    if x[1] == y[1]:\n",
    "        return True\n",
    "    else:\n",
    "        return False"
   ]
  },
  {
   "cell_type": "code",
   "execution_count": 156,
   "id": "54562e29",
   "metadata": {},
   "outputs": [],
   "source": [
    "# x e y são tuplas, cada um com dois valores, numerador e denominador\n",
    "def opera_frac(x, y, op=\"soma\"):\n",
    "\n",
    "    if op == \"soma\":\n",
    "        if checa_igualdade_denominador_fracoes(x, y):\n",
    "            num = x[0] + y[0]\n",
    "            return simplifica_fracao((num, x[1]))\n",
    "        else:\n",
    "            novo_den = recompor_fator_primo(mmc_args(x[1], y[1]))\n",
    "            novo_num = ((novo_den / x[1]) * x[0]) + ((novo_den / y[1]) * y[0])\n",
    "            return simplifica_fracao((int(novo_num), int(novo_den)))\n",
    "        \n",
    "    if op == \"subtracao\":\n",
    "        if checa_igualdade_denominador_fracoes(x, y):\n",
    "            num = x[0] - y[0]\n",
    "            if num == 0:\n",
    "                return 0\n",
    "            return simplifica_fracao((num, x[1]))\n",
    "        else:\n",
    "            novo_den = recompor_fator_primo(mmc_args(x[1], y[1]))\n",
    "            novo_num = ((novo_den / x[1]) * x[0]) - ((novo_den / y[1]) * y[0])\n",
    "            return simplifica_fracao((int(novo_num), int(novo_den)))\n",
    "        \n",
    "    if op == \"multiplicacao\":\n",
    "        novo_num = x[0] * y[0]\n",
    "        novo_den = x[1] * y[1]\n",
    "        return simplifica_fracao((int(novo_num), int(novo_den)))\n",
    "    \n",
    "    if op == \"divisao\":\n",
    "        novo_num = x[0] * y[1]\n",
    "        novo_den = x[1] * y[0]\n",
    "        return simplifica_fracao((int(novo_num), int(novo_den)))"
   ]
  },
  {
   "cell_type": "code",
   "execution_count": 143,
   "id": "a44e962c",
   "metadata": {},
   "outputs": [
    {
     "data": {
      "text/plain": [
       "2"
      ]
     },
     "execution_count": 143,
     "metadata": {},
     "output_type": "execute_result"
    }
   ],
   "source": [
    "opera_frac((1, 2), (3, 2))"
   ]
  },
  {
   "cell_type": "code",
   "execution_count": 144,
   "id": "8701f50b",
   "metadata": {},
   "outputs": [
    {
     "data": {
      "text/plain": [
       "(5, 6)"
      ]
     },
     "execution_count": 144,
     "metadata": {},
     "output_type": "execute_result"
    }
   ],
   "source": [
    "opera_frac((1, 3), (1, 2))"
   ]
  },
  {
   "cell_type": "code",
   "execution_count": 145,
   "id": "b4c2c0fb",
   "metadata": {},
   "outputs": [
    {
     "data": {
      "text/plain": [
       "1"
      ]
     },
     "execution_count": 145,
     "metadata": {},
     "output_type": "execute_result"
    }
   ],
   "source": [
    "opera_frac((1, 2), (1, 2))"
   ]
  },
  {
   "cell_type": "code",
   "execution_count": 146,
   "id": "17aac4f0",
   "metadata": {},
   "outputs": [
    {
     "data": {
      "text/plain": [
       "(11, 10)"
      ]
     },
     "execution_count": 146,
     "metadata": {},
     "output_type": "execute_result"
    }
   ],
   "source": [
    "opera_frac((3, 5), (1, 2))"
   ]
  },
  {
   "cell_type": "code",
   "execution_count": 147,
   "id": "29d3f591",
   "metadata": {},
   "outputs": [
    {
     "data": {
      "text/plain": [
       "1"
      ]
     },
     "execution_count": 147,
     "metadata": {},
     "output_type": "execute_result"
    }
   ],
   "source": [
    "opera_frac((3, 2), (1, 2), op=\"subtracao\")"
   ]
  },
  {
   "cell_type": "code",
   "execution_count": 148,
   "id": "eb0ae9a5",
   "metadata": {},
   "outputs": [
    {
     "data": {
      "text/plain": [
       "(1, 6)"
      ]
     },
     "execution_count": 148,
     "metadata": {},
     "output_type": "execute_result"
    }
   ],
   "source": [
    "opera_frac((1, 2), (1, 3), op=\"subtracao\")"
   ]
  },
  {
   "cell_type": "code",
   "execution_count": 149,
   "id": "9d858a83",
   "metadata": {},
   "outputs": [
    {
     "data": {
      "text/plain": [
       "0"
      ]
     },
     "execution_count": 149,
     "metadata": {},
     "output_type": "execute_result"
    }
   ],
   "source": [
    "opera_frac((1, 2), (1, 2), op=\"subtracao\")"
   ]
  },
  {
   "cell_type": "code",
   "execution_count": 150,
   "id": "c7b770e2",
   "metadata": {},
   "outputs": [
    {
     "data": {
      "text/plain": [
       "(1, 10)"
      ]
     },
     "execution_count": 150,
     "metadata": {},
     "output_type": "execute_result"
    }
   ],
   "source": [
    "opera_frac((3, 5), (1, 2), op=\"subtracao\")"
   ]
  },
  {
   "cell_type": "code",
   "execution_count": 152,
   "id": "93c9bda2",
   "metadata": {},
   "outputs": [
    {
     "data": {
      "text/plain": [
       "1"
      ]
     },
     "execution_count": 152,
     "metadata": {},
     "output_type": "execute_result"
    }
   ],
   "source": [
    "opera_frac((2, 1), (1, 2), op=\"multiplicacao\")"
   ]
  },
  {
   "cell_type": "code",
   "execution_count": 153,
   "id": "65935373",
   "metadata": {},
   "outputs": [
    {
     "data": {
      "text/plain": [
       "(1, 6)"
      ]
     },
     "execution_count": 153,
     "metadata": {},
     "output_type": "execute_result"
    }
   ],
   "source": [
    "opera_frac((1, 3), (1, 2), op=\"multiplicacao\")"
   ]
  },
  {
   "cell_type": "code",
   "execution_count": 154,
   "id": "e5c96fbd",
   "metadata": {},
   "outputs": [
    {
     "data": {
      "text/plain": [
       "(2, 9)"
      ]
     },
     "execution_count": 154,
     "metadata": {},
     "output_type": "execute_result"
    }
   ],
   "source": [
    "opera_frac((2, 3), (5, 15), op=\"multiplicacao\")"
   ]
  },
  {
   "cell_type": "code",
   "execution_count": 155,
   "id": "2613e3e4",
   "metadata": {},
   "outputs": [
    {
     "data": {
      "text/plain": [
       "(2, 9)"
      ]
     },
     "execution_count": 155,
     "metadata": {},
     "output_type": "execute_result"
    }
   ],
   "source": [
    "opera_frac((1, 4), (8, 9), op=\"multiplicacao\")"
   ]
  },
  {
   "cell_type": "code",
   "execution_count": 161,
   "id": "582dde70",
   "metadata": {},
   "outputs": [
    {
     "data": {
      "text/plain": [
       "(9, 25)"
      ]
     },
     "execution_count": 161,
     "metadata": {},
     "output_type": "execute_result"
    }
   ],
   "source": [
    "opera_frac((3, 5), (3, 5), op=\"multiplicacao\")"
   ]
  },
  {
   "cell_type": "code",
   "execution_count": 157,
   "id": "87efd9bc",
   "metadata": {},
   "outputs": [
    {
     "data": {
      "text/plain": [
       "4"
      ]
     },
     "execution_count": 157,
     "metadata": {},
     "output_type": "execute_result"
    }
   ],
   "source": [
    "opera_frac((2, 1), (1, 2), op=\"divisao\")"
   ]
  },
  {
   "cell_type": "code",
   "execution_count": 158,
   "id": "6917023f",
   "metadata": {},
   "outputs": [
    {
     "data": {
      "text/plain": [
       "(2, 3)"
      ]
     },
     "execution_count": 158,
     "metadata": {},
     "output_type": "execute_result"
    }
   ],
   "source": [
    "opera_frac((1, 3), (1, 2), op=\"divisao\")"
   ]
  },
  {
   "cell_type": "code",
   "execution_count": 159,
   "id": "9171a35c",
   "metadata": {},
   "outputs": [
    {
     "data": {
      "text/plain": [
       "2"
      ]
     },
     "execution_count": 159,
     "metadata": {},
     "output_type": "execute_result"
    }
   ],
   "source": [
    "opera_frac((2, 3), (5, 15), op=\"divisao\")"
   ]
  },
  {
   "cell_type": "code",
   "execution_count": 160,
   "id": "5385cdf7",
   "metadata": {},
   "outputs": [
    {
     "data": {
      "text/plain": [
       "(9, 32)"
      ]
     },
     "execution_count": 160,
     "metadata": {},
     "output_type": "execute_result"
    }
   ],
   "source": [
    "opera_frac((1, 4), (8, 9), op=\"divisao\")"
   ]
  },
  {
   "cell_type": "code",
   "execution_count": 162,
   "id": "f4a14d74",
   "metadata": {},
   "outputs": [
    {
     "data": {
      "text/plain": [
       "1"
      ]
     },
     "execution_count": 162,
     "metadata": {},
     "output_type": "execute_result"
    }
   ],
   "source": [
    "opera_frac((3, 5), (3, 5), op=\"divisao\")"
   ]
  },
  {
   "cell_type": "code",
   "execution_count": null,
   "id": "5d7ad1b6",
   "metadata": {},
   "outputs": [],
   "source": []
  }
 ],
 "metadata": {
  "kernelspec": {
   "display_name": "Python 3",
   "language": "python",
   "name": "python3"
  },
  "language_info": {
   "codemirror_mode": {
    "name": "ipython",
    "version": 3
   },
   "file_extension": ".py",
   "mimetype": "text/x-python",
   "name": "python",
   "nbconvert_exporter": "python",
   "pygments_lexer": "ipython3",
   "version": "3.8.11"
  }
 },
 "nbformat": 4,
 "nbformat_minor": 5
}
