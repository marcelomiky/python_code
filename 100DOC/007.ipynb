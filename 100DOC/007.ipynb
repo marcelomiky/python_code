{
 "cells": [
  {
   "cell_type": "markdown",
   "id": "9112d2c5",
   "metadata": {},
   "source": [
    "# Problema Matriz"
   ]
  },
  {
   "cell_type": "markdown",
   "id": "b88a3fa6",
   "metadata": {},
   "source": [
    "Dado uma matriz MxN de números inteiros, busque um número na matriz toda e retorne a posição deste elemento. Retorne também os vizinhos deste elemento."
   ]
  },
  {
   "cell_type": "code",
   "execution_count": 82,
   "id": "ae65a100",
   "metadata": {},
   "outputs": [],
   "source": [
    "import numpy as np\n",
    "\n",
    "# matrix with m rows and n columns\n",
    "def create_matrix(m, n, min_, max_):\n",
    "    return np.random.random_integers(min_, max_, (m, n))"
   ]
  },
  {
   "cell_type": "code",
   "execution_count": 83,
   "id": "7ddb4630",
   "metadata": {},
   "outputs": [
    {
     "name": "stderr",
     "output_type": "stream",
     "text": [
      "<ipython-input-82-0784c1115c04>:5: DeprecationWarning: This function is deprecated. Please call randint(1, 23 + 1) instead\n",
      "  return np.random.random_integers(min_, max_, (m, n))\n"
     ]
    },
    {
     "data": {
      "text/plain": [
       "array([[20, 15, 17, 20],\n",
       "       [19, 23, 15, 15],\n",
       "       [ 3, 20, 11, 15]])"
      ]
     },
     "execution_count": 83,
     "metadata": {},
     "output_type": "execute_result"
    }
   ],
   "source": [
    "matrix = create_matrix(3, 4, 1, 23)\n",
    "matrix"
   ]
  },
  {
   "cell_type": "code",
   "execution_count": 4,
   "id": "11184d2d",
   "metadata": {},
   "outputs": [
    {
     "data": {
      "text/plain": [
       "6"
      ]
     },
     "execution_count": 4,
     "metadata": {},
     "output_type": "execute_result"
    }
   ],
   "source": [
    "matrix[0][0]"
   ]
  },
  {
   "cell_type": "code",
   "execution_count": 22,
   "id": "f3bf5cf7",
   "metadata": {},
   "outputs": [
    {
     "data": {
      "text/plain": [
       "18"
      ]
     },
     "execution_count": 22,
     "metadata": {},
     "output_type": "execute_result"
    }
   ],
   "source": [
    "matrix[1][2]  # row, column"
   ]
  },
  {
   "cell_type": "code",
   "execution_count": 23,
   "id": "0b5bc025",
   "metadata": {},
   "outputs": [
    {
     "data": {
      "text/plain": [
       "(3, 4)"
      ]
     },
     "execution_count": 23,
     "metadata": {},
     "output_type": "execute_result"
    }
   ],
   "source": [
    "matrix.shape"
   ]
  },
  {
   "cell_type": "code",
   "execution_count": null,
   "id": "0a1ab34c",
   "metadata": {},
   "outputs": [],
   "source": []
  },
  {
   "cell_type": "code",
   "execution_count": 24,
   "id": "23fee037",
   "metadata": {},
   "outputs": [],
   "source": [
    "def search_element(x, matrix):\n",
    "    rows, columns = matrix.shape\n",
    "    list_index_element = list()\n",
    "    \n",
    "    for r in range(rows):\n",
    "        for c in range(columns):\n",
    "            if x == matrix[r][c]:\n",
    "                list_index_element.append((r, c))\n",
    "    \n",
    "    return list_index_element"
   ]
  },
  {
   "cell_type": "code",
   "execution_count": 25,
   "id": "2080e756",
   "metadata": {},
   "outputs": [
    {
     "data": {
      "text/plain": [
       "[(0, 1), (1, 1)]"
      ]
     },
     "execution_count": 25,
     "metadata": {},
     "output_type": "execute_result"
    }
   ],
   "source": [
    "search_element(2, matrix)"
   ]
  },
  {
   "cell_type": "code",
   "execution_count": 26,
   "id": "c4802388",
   "metadata": {},
   "outputs": [
    {
     "data": {
      "text/plain": [
       "[(1, 0), (2, 3)]"
      ]
     },
     "execution_count": 26,
     "metadata": {},
     "output_type": "execute_result"
    }
   ],
   "source": [
    "search_element(8, matrix)"
   ]
  },
  {
   "cell_type": "code",
   "execution_count": null,
   "id": "6cb2f36b",
   "metadata": {},
   "outputs": [],
   "source": []
  },
  {
   "cell_type": "code",
   "execution_count": 27,
   "id": "71f9dffa",
   "metadata": {},
   "outputs": [],
   "source": [
    "def return_neighbors(x, m, n, matrix):\n",
    "    \n",
    "    list_index_elements = search_element(x, matrix)\n",
    "    \n",
    "    list_neighbors = []\n",
    "    \n",
    "    for i in list_index_elements:\n",
    "        \n",
    "        # Upper\n",
    "        if i[0]-1 >= 0: \n",
    "            list_neighbors.append((i[0]-1, i[1]))\n",
    "        else:\n",
    "            list_neighbors.append(0)\n",
    "        \n",
    "        # Down\n",
    "        if i[0]+1 <= m-1: \n",
    "            list_neighbors.append((i[0]+1, i[1]))\n",
    "        else:\n",
    "            list_neighbors.append(0)\n",
    "        \n",
    "        # Right\n",
    "        if i[1]-1 >= 0:\n",
    "            list_neighbors.append((i[0], i[1]-1))\n",
    "        else:\n",
    "            list_neighbors.append(0)\n",
    "        \n",
    "        # Left\n",
    "        if i[1]+1 <= n-1:\n",
    "            list_neighbors.append((i[0], i[1]+1))\n",
    "        else:\n",
    "            list_neighbors.append(0)\n",
    "    \n",
    "    return list_index_elements, list_neighbors # upper, down, left, right"
   ]
  },
  {
   "cell_type": "code",
   "execution_count": 28,
   "id": "5f15eb6b",
   "metadata": {},
   "outputs": [
    {
     "data": {
      "text/plain": [
       "([(0, 1), (1, 1)], [0, (1, 1), (0, 0), (0, 2), (0, 1), (2, 1), (1, 0), (1, 2)])"
      ]
     },
     "execution_count": 28,
     "metadata": {},
     "output_type": "execute_result"
    }
   ],
   "source": [
    "x = 2\n",
    "m = 3\n",
    "n = 4\n",
    "\n",
    "return_neighbors(x, m, n, matrix)"
   ]
  },
  {
   "cell_type": "code",
   "execution_count": 29,
   "id": "43cbd54b",
   "metadata": {},
   "outputs": [
    {
     "data": {
      "text/plain": [
       "([(1, 0), (2, 3)], [(0, 0), (2, 0), 0, (1, 1), (1, 3), 0, (2, 2), 0])"
      ]
     },
     "execution_count": 29,
     "metadata": {},
     "output_type": "execute_result"
    }
   ],
   "source": [
    "x = 8\n",
    "m = 3\n",
    "n = 4\n",
    "\n",
    "return_neighbors(x, m, n, matrix)"
   ]
  },
  {
   "cell_type": "code",
   "execution_count": 30,
   "id": "eeb4d1cf",
   "metadata": {},
   "outputs": [
    {
     "data": {
      "text/plain": [
       "([(0, 2)], [0, (1, 2), (0, 1), (0, 3)])"
      ]
     },
     "execution_count": 30,
     "metadata": {},
     "output_type": "execute_result"
    }
   ],
   "source": [
    "x = 6\n",
    "m = 3\n",
    "n = 4\n",
    "\n",
    "return_neighbors(x, m, n, matrix)"
   ]
  },
  {
   "cell_type": "code",
   "execution_count": 32,
   "id": "1b2b0462",
   "metadata": {},
   "outputs": [
    {
     "data": {
      "text/plain": [
       "([(2, 2)], [(1, 2), 0, (2, 1), (2, 3)])"
      ]
     },
     "execution_count": 32,
     "metadata": {},
     "output_type": "execute_result"
    }
   ],
   "source": [
    "x = 17\n",
    "\n",
    "return_neighbors(x, m, n, matrix)"
   ]
  },
  {
   "cell_type": "code",
   "execution_count": 35,
   "id": "79c3898b",
   "metadata": {},
   "outputs": [],
   "source": [
    "list_index, list_neighbors = return_neighbors(12, m, n, matrix)"
   ]
  },
  {
   "cell_type": "code",
   "execution_count": 36,
   "id": "ca2f67bd",
   "metadata": {},
   "outputs": [
    {
     "data": {
      "text/plain": [
       "[(0, 3)]"
      ]
     },
     "execution_count": 36,
     "metadata": {},
     "output_type": "execute_result"
    }
   ],
   "source": [
    "list_index"
   ]
  },
  {
   "cell_type": "code",
   "execution_count": 37,
   "id": "6efe5f08",
   "metadata": {},
   "outputs": [
    {
     "data": {
      "text/plain": [
       "[0, (1, 3), (0, 2), 0]"
      ]
     },
     "execution_count": 37,
     "metadata": {},
     "output_type": "execute_result"
    }
   ],
   "source": [
    "list_neighbors"
   ]
  },
  {
   "cell_type": "code",
   "execution_count": null,
   "id": "65c2e243",
   "metadata": {},
   "outputs": [],
   "source": []
  },
  {
   "cell_type": "code",
   "execution_count": 38,
   "id": "2d69179d",
   "metadata": {},
   "outputs": [],
   "source": [
    "def find_element_and_print(list_index, list_neighbors, matrix):\n",
    "\n",
    "    for i in list_index:\n",
    "        print(\"Position:\", i)\n",
    "        counter = 0\n",
    "        for j in list_neighbors:\n",
    "            if j == 0:\n",
    "                counter += 1\n",
    "            else:\n",
    "                if counter == 0:\n",
    "                    print(\"Upper:\", matrix[j[0], j[1]])\n",
    "                if counter == 1:\n",
    "                    print(\"Down:\", matrix[j[0], j[1]])\n",
    "                if counter == 2:\n",
    "                    print(\"Right:\", matrix[j[0], j[1]])\n",
    "                if counter == 3:\n",
    "                    print(\"Left:\", matrix[j[0], j[1]])\n",
    "        counter = 0"
   ]
  },
  {
   "cell_type": "code",
   "execution_count": 39,
   "id": "97f4f1dc",
   "metadata": {},
   "outputs": [
    {
     "name": "stdout",
     "output_type": "stream",
     "text": [
      "Position: (0, 3)\n",
      "Down: 21\n",
      "Down: 6\n"
     ]
    }
   ],
   "source": [
    "find_element_and_print(list_index, list_neighbors, matrix)"
   ]
  },
  {
   "cell_type": "code",
   "execution_count": 84,
   "id": "9fa8f89c",
   "metadata": {},
   "outputs": [
    {
     "data": {
      "text/plain": [
       "array([[20, 15, 17, 20],\n",
       "       [19, 23, 15, 15],\n",
       "       [ 3, 20, 11, 15]])"
      ]
     },
     "execution_count": 84,
     "metadata": {},
     "output_type": "execute_result"
    }
   ],
   "source": [
    "matrix"
   ]
  },
  {
   "cell_type": "code",
   "execution_count": 85,
   "id": "2633a484",
   "metadata": {},
   "outputs": [],
   "source": [
    "def search_duplicates(matrix):\n",
    "    \n",
    "    list_duplicates = []\n",
    "    \n",
    "    rows, columns = matrix.shape\n",
    "    \n",
    "    for i in range(rows):\n",
    "        for j in range(columns):\n",
    "            \n",
    "            a = matrix[i][j]\n",
    "            \n",
    "            for r in range(i, rows):\n",
    "                for c in range(columns):\n",
    "                    if a == matrix[r][c] and (i != r or j != c):\n",
    "                        list_duplicates.append(a)\n",
    "\n",
    "    return list(set(list_duplicates))"
   ]
  },
  {
   "cell_type": "code",
   "execution_count": 86,
   "id": "63238f19",
   "metadata": {},
   "outputs": [
    {
     "data": {
      "text/plain": [
       "[20, 15]"
      ]
     },
     "execution_count": 86,
     "metadata": {},
     "output_type": "execute_result"
    }
   ],
   "source": [
    "search_duplicates(matrix)"
   ]
  },
  {
   "cell_type": "code",
   "execution_count": null,
   "id": "381c5264",
   "metadata": {},
   "outputs": [],
   "source": []
  },
  {
   "cell_type": "markdown",
   "id": "e4e5f546",
   "metadata": {},
   "source": [
    "# Dado um arquivo de texto com palavras, uma em cada linha, ache os palíndromos"
   ]
  },
  {
   "cell_type": "code",
   "execution_count": 104,
   "id": "276fc716",
   "metadata": {},
   "outputs": [],
   "source": [
    "def find_palindromes(file):\n",
    "    list_palindromes= []\n",
    "    \n",
    "    with open(file, \"r\") as a_file:\n",
    "        for line in a_file:\n",
    "            stripped_line = line.strip()\n",
    "            if str(stripped_line) == str(stripped_line[::-1]) and len(str(stripped_line)) > 2:\n",
    "                list_palindromes.append(stripped_line)\n",
    "                \n",
    "    return list_palindromes"
   ]
  },
  {
   "cell_type": "code",
   "execution_count": 105,
   "id": "60cac9b6",
   "metadata": {},
   "outputs": [
    {
     "data": {
      "text/plain": [
       "['aba',\n",
       " 'ala',\n",
       " 'ama',\n",
       " 'ara',\n",
       " 'arara',\n",
       " 'asa',\n",
       " 'ele',\n",
       " 'esse',\n",
       " 'mirim',\n",
       " 'oco',\n",
       " 'osso',\n",
       " 'ovo',\n",
       " 'pop',\n",
       " 'radar',\n",
       " 'raiar',\n",
       " 'ralar',\n",
       " 'rapar',\n",
       " 'reger',\n",
       " 'reler',\n",
       " 'reter',\n",
       " 'rever',\n",
       " 'reviver',\n",
       " 'rir',\n",
       " 'ror',\n",
       " 'rotor',\n",
       " 'www']"
      ]
     },
     "execution_count": 105,
     "metadata": {},
     "output_type": "execute_result"
    }
   ],
   "source": [
    "# https://github.com/thoughtworks/dadoware/blob/master/7776palavras.txt\n",
    "find_palindromes('7776palavras.txt')"
   ]
  },
  {
   "cell_type": "code",
   "execution_count": 106,
   "id": "6b60285c",
   "metadata": {},
   "outputs": [
    {
     "data": {
      "text/plain": [
       "['aaa',\n",
       " 'aba',\n",
       " 'abba',\n",
       " 'acca',\n",
       " 'ada',\n",
       " 'adda',\n",
       " 'addda',\n",
       " 'adinida',\n",
       " 'affa',\n",
       " 'aga',\n",
       " 'aha',\n",
       " 'ajaja',\n",
       " 'aka',\n",
       " 'akka',\n",
       " 'ala',\n",
       " 'alala',\n",
       " 'alula',\n",
       " 'ama',\n",
       " 'amma',\n",
       " 'ana',\n",
       " 'anana',\n",
       " 'anna',\n",
       " 'apa',\n",
       " 'ara',\n",
       " 'arara',\n",
       " 'asa',\n",
       " 'ata',\n",
       " 'atta',\n",
       " 'ava',\n",
       " 'awa',\n",
       " 'bab',\n",
       " 'bib',\n",
       " 'bob',\n",
       " 'boob',\n",
       " 'bub',\n",
       " 'cyc',\n",
       " 'civic',\n",
       " 'crc',\n",
       " 'csc',\n",
       " 'dad',\n",
       " 'deed',\n",
       " 'deedeed',\n",
       " 'degged',\n",
       " 'deified',\n",
       " 'deked',\n",
       " 'deled',\n",
       " 'denned',\n",
       " 'dewed',\n",
       " 'did',\n",
       " 'divid',\n",
       " 'dod',\n",
       " 'dtd',\n",
       " 'dud',\n",
       " 'ecce',\n",
       " 'eye',\n",
       " 'eke',\n",
       " 'elle',\n",
       " 'eme',\n",
       " 'ere',\n",
       " 'ese',\n",
       " 'esse',\n",
       " 'eve',\n",
       " 'ewe',\n",
       " 'gag',\n",
       " 'gig',\n",
       " 'gog',\n",
       " 'goog',\n",
       " 'hagigah',\n",
       " 'hah',\n",
       " 'halalah',\n",
       " 'hallah',\n",
       " 'heh',\n",
       " 'huh',\n",
       " 'yay',\n",
       " 'yaray',\n",
       " 'ihi',\n",
       " 'iii',\n",
       " 'imi',\n",
       " 'immi',\n",
       " 'yoy',\n",
       " 'kaiak',\n",
       " 'kayak',\n",
       " 'kakkak',\n",
       " 'kassak',\n",
       " 'kazak',\n",
       " 'keek',\n",
       " 'kelek',\n",
       " 'kinnikinnik',\n",
       " 'kook',\n",
       " 'lemel',\n",
       " 'level',\n",
       " 'lwl',\n",
       " 'maam',\n",
       " 'madam',\n",
       " 'malayalam',\n",
       " 'malam',\n",
       " 'mallam',\n",
       " 'mam',\n",
       " 'marram',\n",
       " 'mem',\n",
       " 'mesem',\n",
       " 'mim',\n",
       " 'mym',\n",
       " 'minim',\n",
       " 'mmmm',\n",
       " 'mom',\n",
       " 'mum',\n",
       " 'murdrum',\n",
       " 'nan',\n",
       " 'neven',\n",
       " 'non',\n",
       " 'noon',\n",
       " 'nun',\n",
       " 'ofo',\n",
       " 'oho',\n",
       " 'ono',\n",
       " 'oooo',\n",
       " 'oto',\n",
       " 'ottetto',\n",
       " 'otto',\n",
       " 'pap',\n",
       " 'peep',\n",
       " 'peeweep',\n",
       " 'pep',\n",
       " 'pip',\n",
       " 'poop',\n",
       " 'pop',\n",
       " 'prp',\n",
       " 'ptp',\n",
       " 'pup',\n",
       " 'radar',\n",
       " 'redder',\n",
       " 'refer',\n",
       " 'reifier',\n",
       " 'renner',\n",
       " 'repaper',\n",
       " 'retter',\n",
       " 'rever',\n",
       " 'reviver',\n",
       " 'rotator',\n",
       " 'rotor',\n",
       " 'sagas',\n",
       " 'samas',\n",
       " 'sds',\n",
       " 'sees',\n",
       " 'selles',\n",
       " 'sememes',\n",
       " 'semes',\n",
       " 'senones',\n",
       " 'seres',\n",
       " 'sexes',\n",
       " 'shahs',\n",
       " 'siris',\n",
       " 'sis',\n",
       " 'solos',\n",
       " 'sooloos',\n",
       " 'sos',\n",
       " 'sps',\n",
       " 'stats',\n",
       " 'stets',\n",
       " 'succus',\n",
       " 'sus',\n",
       " 'tat',\n",
       " 'tebbet',\n",
       " 'tebet',\n",
       " 'teet',\n",
       " 'tenet',\n",
       " 'terret',\n",
       " 'tgt',\n",
       " 'tibbit',\n",
       " 'tipit',\n",
       " 'tirrit',\n",
       " 'tit',\n",
       " 'tyt',\n",
       " 'tkt',\n",
       " 'tnt',\n",
       " 'toot',\n",
       " 'tot',\n",
       " 'trt',\n",
       " 'tst',\n",
       " 'tut',\n",
       " 'txt',\n",
       " 'ulu',\n",
       " 'ululu',\n",
       " 'umu',\n",
       " 'uru',\n",
       " 'usu',\n",
       " 'utu',\n",
       " 'vav',\n",
       " 'waw',\n",
       " 'wow',\n",
       " 'xix',\n",
       " 'xxx']"
      ]
     },
     "execution_count": 106,
     "metadata": {},
     "output_type": "execute_result"
    }
   ],
   "source": [
    "# https://github.com/dwyl/english-words/blob/master/words_alpha.txt\n",
    "file = 'words_alpha.txt'\n",
    "find_palindromes(file)"
   ]
  },
  {
   "cell_type": "code",
   "execution_count": null,
   "id": "b6e085a0",
   "metadata": {},
   "outputs": [],
   "source": []
  }
 ],
 "metadata": {
  "kernelspec": {
   "display_name": "Python 3",
   "language": "python",
   "name": "python3"
  },
  "language_info": {
   "codemirror_mode": {
    "name": "ipython",
    "version": 3
   },
   "file_extension": ".py",
   "mimetype": "text/x-python",
   "name": "python",
   "nbconvert_exporter": "python",
   "pygments_lexer": "ipython3",
   "version": "3.8.11"
  }
 },
 "nbformat": 4,
 "nbformat_minor": 5
}
