{
 "cells": [
  {
   "cell_type": "markdown",
   "id": "9112d2c5",
   "metadata": {},
   "source": [
    "# Problema Matriz"
   ]
  },
  {
   "cell_type": "markdown",
   "id": "b88a3fa6",
   "metadata": {},
   "source": [
    "Dado uma matriz MxN de números inteiros, busque um número na matriz toda e retorne a posição deste elemento. Retorne também os vizinhos deste elemento."
   ]
  },
  {
   "cell_type": "code",
   "execution_count": 12,
   "id": "ae65a100",
   "metadata": {},
   "outputs": [],
   "source": [
    "import numpy as np\n",
    "\n",
    "# matrix with m rows and n columns\n",
    "def create_matrix(m, n):\n",
    "    return np.random.random_integers(0, 10, (m, n))"
   ]
  },
  {
   "cell_type": "code",
   "execution_count": 13,
   "id": "7ddb4630",
   "metadata": {},
   "outputs": [
    {
     "name": "stderr",
     "output_type": "stream",
     "text": [
      "<ipython-input-12-33f96edb69b7>:5: DeprecationWarning: This function is deprecated. Please call randint(0, 10 + 1) instead\n",
      "  return np.random.random_integers(0, 10, (m, n))\n"
     ]
    },
    {
     "data": {
      "text/plain": [
       "array([[ 7,  8, 10,  1],\n",
       "       [ 3,  0,  5,  8],\n",
       "       [ 6,  3,  8,  6]])"
      ]
     },
     "execution_count": 13,
     "metadata": {},
     "output_type": "execute_result"
    }
   ],
   "source": [
    "matrix = create_matrix(3, 4)\n",
    "matrix"
   ]
  },
  {
   "cell_type": "code",
   "execution_count": 14,
   "id": "11184d2d",
   "metadata": {},
   "outputs": [
    {
     "data": {
      "text/plain": [
       "7"
      ]
     },
     "execution_count": 14,
     "metadata": {},
     "output_type": "execute_result"
    }
   ],
   "source": [
    "matrix[0][0]"
   ]
  },
  {
   "cell_type": "code",
   "execution_count": 18,
   "id": "f3bf5cf7",
   "metadata": {},
   "outputs": [
    {
     "data": {
      "text/plain": [
       "8"
      ]
     },
     "execution_count": 18,
     "metadata": {},
     "output_type": "execute_result"
    }
   ],
   "source": [
    "matrix[1][3]  # row, column"
   ]
  },
  {
   "cell_type": "code",
   "execution_count": 19,
   "id": "0b5bc025",
   "metadata": {},
   "outputs": [
    {
     "data": {
      "text/plain": [
       "(3, 4)"
      ]
     },
     "execution_count": 19,
     "metadata": {},
     "output_type": "execute_result"
    }
   ],
   "source": [
    "matrix.shape"
   ]
  },
  {
   "cell_type": "code",
   "execution_count": null,
   "id": "0a1ab34c",
   "metadata": {},
   "outputs": [],
   "source": []
  },
  {
   "cell_type": "code",
   "execution_count": 24,
   "id": "23fee037",
   "metadata": {},
   "outputs": [],
   "source": [
    "def search_element(x, matrix):\n",
    "    rows, columns = matrix.shape\n",
    "    list_index_element = list()\n",
    "    \n",
    "    for r in range(rows):\n",
    "        for c in range(columns):\n",
    "            if x == matrix[r][c]:\n",
    "                list_index_element.append((r, c))\n",
    "    \n",
    "    return list_index_element"
   ]
  },
  {
   "cell_type": "code",
   "execution_count": 25,
   "id": "2080e756",
   "metadata": {},
   "outputs": [
    {
     "data": {
      "text/plain": [
       "[(0, 0)]"
      ]
     },
     "execution_count": 25,
     "metadata": {},
     "output_type": "execute_result"
    }
   ],
   "source": [
    "search_element(7, matrix)"
   ]
  },
  {
   "cell_type": "code",
   "execution_count": 26,
   "id": "c4802388",
   "metadata": {},
   "outputs": [
    {
     "data": {
      "text/plain": [
       "[(0, 1), (1, 3), (2, 2)]"
      ]
     },
     "execution_count": 26,
     "metadata": {},
     "output_type": "execute_result"
    }
   ],
   "source": [
    "search_element(8, matrix)"
   ]
  },
  {
   "cell_type": "code",
   "execution_count": null,
   "id": "6cb2f36b",
   "metadata": {},
   "outputs": [],
   "source": []
  },
  {
   "cell_type": "code",
   "execution_count": null,
   "id": "71f9dffa",
   "metadata": {},
   "outputs": [],
   "source": []
  }
 ],
 "metadata": {
  "kernelspec": {
   "display_name": "Python 3",
   "language": "python",
   "name": "python3"
  },
  "language_info": {
   "codemirror_mode": {
    "name": "ipython",
    "version": 3
   },
   "file_extension": ".py",
   "mimetype": "text/x-python",
   "name": "python",
   "nbconvert_exporter": "python",
   "pygments_lexer": "ipython3",
   "version": "3.8.11"
  }
 },
 "nbformat": 4,
 "nbformat_minor": 5
}
