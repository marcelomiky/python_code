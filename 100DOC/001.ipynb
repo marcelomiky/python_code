{
 "cells": [
  {
   "cell_type": "markdown",
   "id": "e0494568",
   "metadata": {},
   "source": [
    "# \\*args, \\**kwargs"
   ]
  },
  {
   "cell_type": "markdown",
   "id": "d37dbe73",
   "metadata": {},
   "source": [
    "https://docs.python.org/3/faq/programming.html#faq-argument-vs-parameter\n",
    "\n",
    "Collect the arguments using the * and ** specifiers in the function’s parameter list; this gives you the **positional arguments as a tuple** and the **keyword arguments as a dictionary**. \n",
    "\n",
    "You can then pass these arguments when calling another function by using * and **."
   ]
  },
  {
   "cell_type": "markdown",
   "id": "2e127688",
   "metadata": {},
   "source": [
    "https://docs.python.org/3/glossary.html#term-argument\n",
    "\n",
    "A value passed to a function (or method) when calling the function. There are two kinds of argument:\n",
    "\n",
    "- keyword argument: an argument preceded by an identifier (e.g. name=) in a function call or passed as a value in a dictionary preceded by **. For example, 3 and 5 are both keyword arguments in the following calls to complex():\n",
    "\n",
    "```\n",
    "    complex(real=3, imag=5)\n",
    "    complex(**{'real': 3, 'imag': 5})\n",
    "```\n",
    "\n",
    "   - positional argument: an argument that is not a keyword argument. Positional arguments can appear at the beginning of an argument list and/or be passed as elements of an iterable preceded by *. For example, 3 and 5 are both positional arguments in the following calls:\n",
    "\n",
    "```\n",
    "    complex(3, 5)\n",
    "    complex(*(3, 5))\n",
    "```\n",
    "\n",
    "Arguments are assigned to the named local variables in a function body. See the Calls section for the rules governing this assignment. Syntactically, any expression can be used to represent an argument; the evaluated value is assigned to the local variable."
   ]
  },
  {
   "cell_type": "markdown",
   "id": "f02fd7c4",
   "metadata": {},
   "source": [
    "https://book.pythontips.com/en/latest/args_and_kwargs.html\n",
    "\n",
    "I have come to see that most new python programmers have a hard time figuring out the *args and \\**kwargs magic variables. So what are they ? First of all, let me tell you that it is not necessary to write *args or \\**kwargs. Only the * (asterisk) is necessary. You could have also written *var and \\**vars. Writing \\*args and \\**kwargs is just a convention. So now let’s take a look at *args first."
   ]
  },
  {
   "cell_type": "code",
   "execution_count": 3,
   "id": "d5bf4ddb",
   "metadata": {},
   "outputs": [],
   "source": [
    "def test_var_args(f_arg, *argv):\n",
    "    print(\"first normal arg:\", f_arg)\n",
    "    \n",
    "    print(\"*argv:\", argv)\n",
    "    \n",
    "    for arg in argv:\n",
    "        print(\"another arg through *argv:\", arg)"
   ]
  },
  {
   "cell_type": "code",
   "execution_count": 4,
   "id": "595cb110",
   "metadata": {},
   "outputs": [
    {
     "name": "stdout",
     "output_type": "stream",
     "text": [
      "first normal arg: yasoob\n",
      "*argv: ('python', 'eggs', 'test')\n",
      "another arg through *argv: python\n",
      "another arg through *argv: eggs\n",
      "another arg through *argv: test\n"
     ]
    }
   ],
   "source": [
    "test_var_args('yasoob', 'python', 'eggs', 'test')"
   ]
  },
  {
   "cell_type": "code",
   "execution_count": null,
   "id": "78bf81a3",
   "metadata": {},
   "outputs": [],
   "source": []
  },
  {
   "cell_type": "markdown",
   "id": "80cdd762",
   "metadata": {},
   "source": [
    "**kwargs allows you to pass keyworded variable length of arguments to a function. \n",
    "\n",
    "You should use **kwargs if you want to handle named arguments in a function. Here is an example to get you going with it:"
   ]
  },
  {
   "cell_type": "code",
   "execution_count": 5,
   "id": "df5e9feb",
   "metadata": {},
   "outputs": [],
   "source": [
    "def greet_me(**kwargs):\n",
    "    for key, value in kwargs.items():\n",
    "        print(\"{0} = {1}\".format(key, value))"
   ]
  },
  {
   "cell_type": "code",
   "execution_count": 6,
   "id": "91bc6b7f",
   "metadata": {},
   "outputs": [
    {
     "name": "stdout",
     "output_type": "stream",
     "text": [
      "name = yasoob\n"
     ]
    }
   ],
   "source": [
    "greet_me(name=\"yasoob\")"
   ]
  },
  {
   "cell_type": "code",
   "execution_count": null,
   "id": "6a488b45",
   "metadata": {},
   "outputs": [],
   "source": []
  },
  {
   "cell_type": "markdown",
   "id": "07388301",
   "metadata": {},
   "source": [
    "So here we will see how to call a function using \\*args and \\**kwargs. \n",
    "\n",
    "Just consider that you have this little function:"
   ]
  },
  {
   "cell_type": "code",
   "execution_count": 7,
   "id": "91ed4795",
   "metadata": {},
   "outputs": [],
   "source": [
    "def test_args_kwargs(arg1, arg2, arg3):\n",
    "    print(\"arg1:\", arg1)\n",
    "    print(\"arg2:\", arg2)\n",
    "    print(\"arg3:\", arg3)"
   ]
  },
  {
   "cell_type": "code",
   "execution_count": 8,
   "id": "8da48eb4",
   "metadata": {},
   "outputs": [
    {
     "name": "stdout",
     "output_type": "stream",
     "text": [
      "arg1: two\n",
      "arg2: 3\n",
      "arg3: 5\n"
     ]
    }
   ],
   "source": [
    "args = (\"two\", 3, 5)\n",
    "test_args_kwargs(*args)"
   ]
  },
  {
   "cell_type": "code",
   "execution_count": 9,
   "id": "64f67b09",
   "metadata": {},
   "outputs": [
    {
     "name": "stdout",
     "output_type": "stream",
     "text": [
      "arg1: 5\n",
      "arg2: two\n",
      "arg3: 3\n"
     ]
    }
   ],
   "source": [
    "kwargs = {\"arg3\": 3, \"arg2\": \"two\", \"arg1\": 5}\n",
    "test_args_kwargs(**kwargs)"
   ]
  },
  {
   "cell_type": "markdown",
   "id": "69d9da03",
   "metadata": {},
   "source": [
    "https://medium.com/rafaeltardivo/python-entendendo-o-uso-de-args-e-kwargs-em-fun%C3%A7%C3%B5es-e-m%C3%A9todos-c8c2810e9dc8"
   ]
  },
  {
   "cell_type": "code",
   "execution_count": 10,
   "id": "98e4fbba",
   "metadata": {},
   "outputs": [],
   "source": [
    "def world_cup_titles(country, *args):\n",
    "    print('Country: ', country)\n",
    "    for title in args:\n",
    "        print('year: ', title)"
   ]
  },
  {
   "cell_type": "code",
   "execution_count": 11,
   "id": "92a45df9",
   "metadata": {},
   "outputs": [
    {
     "name": "stdout",
     "output_type": "stream",
     "text": [
      "Country:  Brasil\n",
      "year:  1958\n",
      "year:  1962\n",
      "year:  1970\n",
      "year:  1994\n",
      "year:  2002\n"
     ]
    }
   ],
   "source": [
    "world_cup_titles('Brasil', '1958', '1962', '1970', '1994', '2002')"
   ]
  },
  {
   "cell_type": "code",
   "execution_count": 12,
   "id": "c91de1da",
   "metadata": {},
   "outputs": [
    {
     "name": "stdout",
     "output_type": "stream",
     "text": [
      "Country:  Espanha\n",
      "year:  2010\n"
     ]
    }
   ],
   "source": [
    "world_cup_titles('Espanha', '2010')"
   ]
  },
  {
   "cell_type": "code",
   "execution_count": 13,
   "id": "401d1aa5",
   "metadata": {},
   "outputs": [],
   "source": [
    "def calculate_price(value, **kwargs):\n",
    "    \n",
    "    tax_percentage = kwargs.get('tax_percentage')\n",
    "    discount = kwargs.get('discount')    \n",
    "    \n",
    "    if tax_percentage:\n",
    "        value += value * (tax_percentage / 100)\n",
    "    if discount:\n",
    "        value -= discount \n",
    "    \n",
    "    return value"
   ]
  },
  {
   "cell_type": "code",
   "execution_count": 14,
   "id": "5100057b",
   "metadata": {},
   "outputs": [
    {
     "data": {
      "text/plain": [
       "100.0"
      ]
     },
     "execution_count": 14,
     "metadata": {},
     "output_type": "execute_result"
    }
   ],
   "source": [
    "final_price = calculate_price(100.0)\n",
    "final_price"
   ]
  },
  {
   "cell_type": "code",
   "execution_count": 15,
   "id": "5e53e4ed",
   "metadata": {},
   "outputs": [
    {
     "data": {
      "text/plain": [
       "95.0"
      ]
     },
     "execution_count": 15,
     "metadata": {},
     "output_type": "execute_result"
    }
   ],
   "source": [
    "final_price = calculate_price(100.0, discount=5.0)\n",
    "final_price"
   ]
  },
  {
   "cell_type": "code",
   "execution_count": 16,
   "id": "d6d7ad3b",
   "metadata": {},
   "outputs": [
    {
     "data": {
      "text/plain": [
       "107.0"
      ]
     },
     "execution_count": 16,
     "metadata": {},
     "output_type": "execute_result"
    }
   ],
   "source": [
    "final_price = calculate_price(100.0, tax_percentage=7)\n",
    "final_price"
   ]
  },
  {
   "cell_type": "code",
   "execution_count": 17,
   "id": "12b334fd",
   "metadata": {},
   "outputs": [
    {
     "data": {
      "text/plain": [
       "102.0"
      ]
     },
     "execution_count": 17,
     "metadata": {},
     "output_type": "execute_result"
    }
   ],
   "source": [
    "final_price = calculate_price(100.0, tax_percentage=7, discount=5.0)\n",
    "final_price"
   ]
  },
  {
   "cell_type": "code",
   "execution_count": null,
   "id": "8c6850f7",
   "metadata": {},
   "outputs": [],
   "source": []
  },
  {
   "cell_type": "markdown",
   "id": "66a1c2be",
   "metadata": {},
   "source": [
    "https://towardsdatascience.com/10-examples-to-master-args-and-kwargs-in-python-6f1e8cc30749"
   ]
  },
  {
   "cell_type": "code",
   "execution_count": 38,
   "id": "4ba69be5",
   "metadata": {},
   "outputs": [],
   "source": [
    "def addition(*args):\n",
    "    r = 0\n",
    "    for i in args:\n",
    "        r += i\n",
    "    return r"
   ]
  },
  {
   "cell_type": "code",
   "execution_count": 39,
   "id": "b0b76885",
   "metadata": {},
   "outputs": [
    {
     "data": {
      "text/plain": [
       "0"
      ]
     },
     "execution_count": 39,
     "metadata": {},
     "output_type": "execute_result"
    }
   ],
   "source": [
    "addition()"
   ]
  },
  {
   "cell_type": "code",
   "execution_count": 40,
   "id": "894e0937",
   "metadata": {},
   "outputs": [
    {
     "data": {
      "text/plain": [
       "5"
      ]
     },
     "execution_count": 40,
     "metadata": {},
     "output_type": "execute_result"
    }
   ],
   "source": [
    "addition(2, 3)"
   ]
  },
  {
   "cell_type": "code",
   "execution_count": 41,
   "id": "da59bafa",
   "metadata": {},
   "outputs": [
    {
     "data": {
      "text/plain": [
       "9"
      ]
     },
     "execution_count": 41,
     "metadata": {},
     "output_type": "execute_result"
    }
   ],
   "source": [
    "addition(2, 3, 4)"
   ]
  },
  {
   "cell_type": "code",
   "execution_count": 42,
   "id": "6ad6022b",
   "metadata": {},
   "outputs": [
    {
     "data": {
      "text/plain": [
       "26"
      ]
     },
     "execution_count": 42,
     "metadata": {},
     "output_type": "execute_result"
    }
   ],
   "source": [
    "addition(5, 4, 7, 10)"
   ]
  },
  {
   "cell_type": "code",
   "execution_count": null,
   "id": "e67ec62b",
   "metadata": {},
   "outputs": [],
   "source": []
  },
  {
   "cell_type": "code",
   "execution_count": 43,
   "id": "5acbb739",
   "metadata": {},
   "outputs": [],
   "source": [
    "def addition(a, b=2): #a is positional, b is keyword argument\n",
    "    return a + b"
   ]
  },
  {
   "cell_type": "code",
   "execution_count": 44,
   "id": "43134ea2",
   "metadata": {},
   "outputs": [
    {
     "data": {
      "text/plain": [
       "3"
      ]
     },
     "execution_count": 44,
     "metadata": {},
     "output_type": "execute_result"
    }
   ],
   "source": [
    "addition(1)"
   ]
  },
  {
   "cell_type": "code",
   "execution_count": 45,
   "id": "8533756c",
   "metadata": {},
   "outputs": [],
   "source": [
    "def arg_printer(a, b, *args):\n",
    "    print(f'a is {a}')\n",
    "    print(f'b is {b}')\n",
    "    print(f'args are {args}')"
   ]
  },
  {
   "cell_type": "code",
   "execution_count": 46,
   "id": "0fc40599",
   "metadata": {},
   "outputs": [
    {
     "name": "stdout",
     "output_type": "stream",
     "text": [
      "a is 3\n",
      "b is 4\n",
      "args are (5, 8, 3)\n"
     ]
    }
   ],
   "source": [
    "arg_printer(3, 4, 5, 8, 3)"
   ]
  },
  {
   "cell_type": "code",
   "execution_count": 47,
   "id": "3191c705",
   "metadata": {},
   "outputs": [],
   "source": [
    "def addition(a, b, *args, option=True):\n",
    "    r = 0\n",
    "    if option:\n",
    "        for i in args:\n",
    "            r += i\n",
    "        return a + b + r\n",
    "    else:\n",
    "        return r"
   ]
  },
  {
   "cell_type": "code",
   "execution_count": 48,
   "id": "2a4aeff8",
   "metadata": {},
   "outputs": [
    {
     "data": {
      "text/plain": [
       "23"
      ]
     },
     "execution_count": 48,
     "metadata": {},
     "output_type": "execute_result"
    }
   ],
   "source": [
    "addition(1,4,5,6,7)"
   ]
  },
  {
   "cell_type": "code",
   "execution_count": 49,
   "id": "4fca7149",
   "metadata": {},
   "outputs": [
    {
     "data": {
      "text/plain": [
       "0"
      ]
     },
     "execution_count": 49,
     "metadata": {},
     "output_type": "execute_result"
    }
   ],
   "source": [
    "addition(1,4,5,6,7, option=False)"
   ]
  },
  {
   "cell_type": "code",
   "execution_count": 50,
   "id": "3cbac80a",
   "metadata": {},
   "outputs": [],
   "source": [
    "def arg_printer(a, b, option=True, **kwargs):\n",
    "    print(a, b)\n",
    "    print(option)\n",
    "    print(kwargs)"
   ]
  },
  {
   "cell_type": "code",
   "execution_count": 51,
   "id": "ddd4f270",
   "metadata": {},
   "outputs": [
    {
     "name": "stdout",
     "output_type": "stream",
     "text": [
      "3 4\n",
      "True\n",
      "{'param1': 5, 'param2': 6}\n"
     ]
    }
   ],
   "source": [
    "arg_printer(3, 4, param1=5, param2=6)"
   ]
  },
  {
   "cell_type": "code",
   "execution_count": null,
   "id": "22827a17",
   "metadata": {},
   "outputs": [],
   "source": []
  },
  {
   "cell_type": "markdown",
   "id": "31eb8fb4",
   "metadata": {},
   "source": [
    "We can use both *args and \\**kwargs in a function but *args must be put before \\**kwargs."
   ]
  },
  {
   "cell_type": "code",
   "execution_count": 52,
   "id": "eafe093c",
   "metadata": {},
   "outputs": [],
   "source": [
    "def arg_printer(a, b, *args, option=True, **kwargs):\n",
    "    print(a, b)\n",
    "    print(args)\n",
    "    print(option)"
   ]
  },
  {
   "cell_type": "code",
   "execution_count": 54,
   "id": "20c645fc",
   "metadata": {},
   "outputs": [
    {
     "name": "stdout",
     "output_type": "stream",
     "text": [
      "1 4\n",
      "(6, 5)\n",
      "True\n"
     ]
    }
   ],
   "source": [
    "arg_printer(1, 4, 6, 5, param1=5, param2=6)"
   ]
  },
  {
   "cell_type": "code",
   "execution_count": null,
   "id": "88996eb5",
   "metadata": {},
   "outputs": [],
   "source": []
  },
  {
   "cell_type": "markdown",
   "id": "f9016e59",
   "metadata": {},
   "source": [
    "Example 7\n",
    "\n",
    "We can pack and unpack variables using *args and \\**kwargs."
   ]
  },
  {
   "cell_type": "code",
   "execution_count": 55,
   "id": "73cbf216",
   "metadata": {},
   "outputs": [],
   "source": [
    "def arg_printer(*args):\n",
    "    print(args)"
   ]
  },
  {
   "cell_type": "markdown",
   "id": "0ef35bcd",
   "metadata": {},
   "source": [
    "If we pass a list to the function above, it will stored in args tuple as one single element."
   ]
  },
  {
   "cell_type": "code",
   "execution_count": 56,
   "id": "44d22eda",
   "metadata": {},
   "outputs": [
    {
     "name": "stdout",
     "output_type": "stream",
     "text": [
      "([1, 4, 5],)\n"
     ]
    }
   ],
   "source": [
    "lst = [1,4,5]\n",
    "\n",
    "arg_printer(lst)"
   ]
  },
  {
   "cell_type": "markdown",
   "id": "290eac90",
   "metadata": {},
   "source": [
    "If we put an asterisk before lst, the values in the list will be unpacked and stored in args tuple separately."
   ]
  },
  {
   "cell_type": "code",
   "execution_count": 57,
   "id": "ea81b7aa",
   "metadata": {},
   "outputs": [
    {
     "name": "stdout",
     "output_type": "stream",
     "text": [
      "(1, 4, 5)\n"
     ]
    }
   ],
   "source": [
    "lst = [1,4,5]\n",
    "\n",
    "arg_printer(*lst)"
   ]
  },
  {
   "cell_type": "code",
   "execution_count": null,
   "id": "537c19e0",
   "metadata": {},
   "outputs": [],
   "source": []
  },
  {
   "cell_type": "markdown",
   "id": "34a83f09",
   "metadata": {},
   "source": [
    "Example 8\n",
    "\n",
    "We can pass multiple iterables to be unpacked together with single elements. All values will be stored in the args tuple."
   ]
  },
  {
   "cell_type": "code",
   "execution_count": 58,
   "id": "633475bf",
   "metadata": {},
   "outputs": [
    {
     "name": "stdout",
     "output_type": "stream",
     "text": [
      "(1, 4, 5, 'a', 'b', 4, 5, 6)\n"
     ]
    }
   ],
   "source": [
    "lst = [1,4,5]\n",
    "tpl = ('a','b',4)\n",
    "\n",
    "arg_printer(*lst, *tpl, 5, 6)"
   ]
  },
  {
   "cell_type": "markdown",
   "id": "b0819928",
   "metadata": {},
   "source": [
    "Example 9\n",
    "\n",
    "We can do the packing and unpacking with keyword arguments as well."
   ]
  },
  {
   "cell_type": "code",
   "execution_count": 66,
   "id": "f40ae415",
   "metadata": {},
   "outputs": [],
   "source": [
    "def arg_printer(**kwargs):\n",
    "    print(kwargs)"
   ]
  },
  {
   "cell_type": "code",
   "execution_count": 64,
   "id": "2dc6e7c0",
   "metadata": {},
   "outputs": [
    {
     "name": "stdout",
     "output_type": "stream",
     "text": [
      "{'param1': 5, 'param2': 8}\n"
     ]
    }
   ],
   "source": [
    "dct = {'param1':5, 'param2':8}\n",
    "\n",
    "arg_printer(**dct)  \n",
    "# PRECISA DO USO DOS DOIS ASTERISCOS AQUI TAMBÉM, NÃO SÓ NA DECLARAÇÃO DO PARÂMETRO, MAS NO USO DELA"
   ]
  },
  {
   "cell_type": "markdown",
   "id": "e173fef1",
   "metadata": {},
   "source": [
    "Example 10\n",
    "\n",
    "If we also pass additional keyword arguments together with a dictionary, they will combined and stored in the kwargs dictionary."
   ]
  },
  {
   "cell_type": "code",
   "execution_count": 65,
   "id": "b54046b8",
   "metadata": {},
   "outputs": [
    {
     "name": "stdout",
     "output_type": "stream",
     "text": [
      "{'param3': 9, 'param1': 5, 'param2': 8}\n"
     ]
    }
   ],
   "source": [
    "dct = {'param1':5, 'param2':8}\n",
    "\n",
    "arg_printer(param3=9, **dct)"
   ]
  },
  {
   "cell_type": "code",
   "execution_count": null,
   "id": "fd5063a3",
   "metadata": {},
   "outputs": [],
   "source": []
  },
  {
   "cell_type": "markdown",
   "id": "a44ca5a7",
   "metadata": {},
   "source": [
    "https://calmcode.io/args-kwargs/error.html"
   ]
  },
  {
   "cell_type": "code",
   "execution_count": 70,
   "id": "f3648cc9",
   "metadata": {},
   "outputs": [],
   "source": [
    "def function(a, b, *args, keyword=True, **kwargs):\n",
    "    print(a, b)\n",
    "    print(args)\n",
    "    print(keyword)\n",
    "    print(kwargs)"
   ]
  },
  {
   "cell_type": "code",
   "execution_count": 72,
   "id": "5ec664c5",
   "metadata": {},
   "outputs": [
    {
     "name": "stdout",
     "output_type": "stream",
     "text": [
      "1 2\n",
      "(5, 3, 4)\n",
      "True\n",
      "{'param': 42}\n"
     ]
    }
   ],
   "source": [
    "function(1, 2, 5, 3, 4, param=42)"
   ]
  },
  {
   "cell_type": "code",
   "execution_count": null,
   "id": "987a98c3",
   "metadata": {},
   "outputs": [],
   "source": []
  },
  {
   "cell_type": "markdown",
   "id": "bd0101c3",
   "metadata": {},
   "source": [
    "https://www.teclado.com/30-days-of-python/python-30-day-17-args-kwargs"
   ]
  },
  {
   "cell_type": "code",
   "execution_count": 75,
   "id": "7d38ae27",
   "metadata": {},
   "outputs": [],
   "source": [
    "def pretty_print(**kwargs):\n",
    "    for key, value in kwargs.items():\n",
    "        print(f\"{key}: {value}\")"
   ]
  },
  {
   "cell_type": "code",
   "execution_count": 76,
   "id": "07d4e6ab",
   "metadata": {},
   "outputs": [
    {
     "name": "stdout",
     "output_type": "stream",
     "text": [
      "title: The Matrix\n",
      "director: Wachowski\n",
      "year: 1999\n"
     ]
    }
   ],
   "source": [
    "pretty_print(title=\"The Matrix\", director=\"Wachowski\", year=1999)"
   ]
  },
  {
   "cell_type": "code",
   "execution_count": 78,
   "id": "f4abcb32",
   "metadata": {},
   "outputs": [],
   "source": [
    "def print_movie(*args):\n",
    "    for value in args:\n",
    "        print(value)"
   ]
  },
  {
   "cell_type": "code",
   "execution_count": 79,
   "id": "4cf253db",
   "metadata": {},
   "outputs": [
    {
     "name": "stdout",
     "output_type": "stream",
     "text": [
      "The Matrix\n",
      "Wachowski\n",
      "1999\n"
     ]
    }
   ],
   "source": [
    "movie = {\n",
    "    \"title\": \"The Matrix\",\n",
    "    \"director\": \"Wachowski\",\n",
    "    \"year\": 1999\n",
    "}\n",
    "\n",
    "print_movie(*movie.values())"
   ]
  },
  {
   "cell_type": "code",
   "execution_count": 80,
   "id": "56d6250e",
   "metadata": {},
   "outputs": [
    {
     "name": "stdout",
     "output_type": "stream",
     "text": [
      "title\n",
      "director\n",
      "year\n"
     ]
    }
   ],
   "source": [
    "print_movie(*movie.keys())"
   ]
  },
  {
   "cell_type": "code",
   "execution_count": 81,
   "id": "45edf7b8",
   "metadata": {},
   "outputs": [],
   "source": [
    "def print_movie(**kwargs):\n",
    "    for key, value in kwargs.items():\n",
    "        print(f\"{key}: {value}\")"
   ]
  },
  {
   "cell_type": "code",
   "execution_count": 82,
   "id": "b24772b1",
   "metadata": {},
   "outputs": [],
   "source": [
    "movie = {\n",
    "    \"title\": \"The Matrix\",\n",
    "    \"director\": \"Wachowski\",\n",
    "    \"year\": 1999\n",
    "}"
   ]
  },
  {
   "cell_type": "code",
   "execution_count": 83,
   "id": "371b25f0",
   "metadata": {},
   "outputs": [
    {
     "name": "stdout",
     "output_type": "stream",
     "text": [
      "title: The Matrix\n",
      "director: Wachowski\n",
      "year: 1999\n"
     ]
    }
   ],
   "source": [
    "print_movie(**movie)"
   ]
  },
  {
   "cell_type": "code",
   "execution_count": 84,
   "id": "d1b7be58",
   "metadata": {},
   "outputs": [],
   "source": [
    "def print_movie(**kwargs):\n",
    "    for key, value in kwargs.items():\n",
    "        print(f\"{key}: {value}\")"
   ]
  },
  {
   "cell_type": "code",
   "execution_count": 85,
   "id": "ee3d1873",
   "metadata": {},
   "outputs": [],
   "source": [
    "movie = {\n",
    "    \"title\": \"The Matrix\",\n",
    "    \"director\": \"Wachowski\",\n",
    "    \"year\": 1999\n",
    "}"
   ]
  },
  {
   "cell_type": "code",
   "execution_count": 86,
   "id": "7928075c",
   "metadata": {},
   "outputs": [
    {
     "name": "stdout",
     "output_type": "stream",
     "text": [
      "studio: Warner Bros\n",
      "title: The Matrix\n",
      "director: Wachowski\n",
      "year: 1999\n"
     ]
    }
   ],
   "source": [
    "print_movie(studio=\"Warner Bros\", **movie)"
   ]
  },
  {
   "cell_type": "code",
   "execution_count": null,
   "id": "86b3b69b",
   "metadata": {},
   "outputs": [],
   "source": []
  },
  {
   "cell_type": "markdown",
   "id": "58e776eb",
   "metadata": {},
   "source": [
    "https://stackoverflow.com/questions/3394835/use-of-args-and-kwargs"
   ]
  },
  {
   "cell_type": "code",
   "execution_count": 95,
   "id": "d5f46b8e",
   "metadata": {},
   "outputs": [],
   "source": [
    "def print_everything(*args):\n",
    "    for count, thing in enumerate(args):\n",
    "        print( '{0}. {1}'.format(count, thing))"
   ]
  },
  {
   "cell_type": "code",
   "execution_count": 96,
   "id": "e1d7dfd4",
   "metadata": {},
   "outputs": [
    {
     "name": "stdout",
     "output_type": "stream",
     "text": [
      "0. apple\n",
      "1. banana\n",
      "2. cabbage\n"
     ]
    }
   ],
   "source": [
    "print_everything('apple', 'banana', 'cabbage')"
   ]
  },
  {
   "cell_type": "code",
   "execution_count": 99,
   "id": "479a551b",
   "metadata": {},
   "outputs": [],
   "source": [
    "def table_things(**kwargs):\n",
    "    for name, value in kwargs.items():\n",
    "        print('{0} = {1}'.format(name, value))"
   ]
  },
  {
   "cell_type": "code",
   "execution_count": 100,
   "id": "9922e2aa",
   "metadata": {},
   "outputs": [
    {
     "name": "stdout",
     "output_type": "stream",
     "text": [
      "apple = fruit\n",
      "cabbage = vegetable\n"
     ]
    }
   ],
   "source": [
    "table_things(apple = 'fruit', cabbage = 'vegetable')"
   ]
  },
  {
   "cell_type": "code",
   "execution_count": 101,
   "id": "2ff1b590",
   "metadata": {},
   "outputs": [],
   "source": [
    "def print_three_things(a, b, c):\n",
    "    print( 'a = {0}, b = {1}, c = {2}'.format(a,b,c))"
   ]
  },
  {
   "cell_type": "code",
   "execution_count": 103,
   "id": "3e2090a6",
   "metadata": {},
   "outputs": [
    {
     "data": {
      "text/plain": [
       "['aardvark', 'baboon', 'cat']"
      ]
     },
     "execution_count": 103,
     "metadata": {},
     "output_type": "execute_result"
    }
   ],
   "source": [
    "mylist = ['aardvark', 'baboon', 'cat']\n",
    "mylist"
   ]
  },
  {
   "cell_type": "code",
   "execution_count": null,
   "id": "2d01b5b6",
   "metadata": {},
   "outputs": [],
   "source": []
  },
  {
   "cell_type": "markdown",
   "id": "1e7b5144",
   "metadata": {},
   "source": [
    "# Obs: Argumentos são diferentes de Parâmetros!\n",
    "\n",
    "https://docs.python.org/3/faq/programming.html#id15\n",
    "\n",
    "Parameters are defined by the names that appear in a function definition, whereas arguments are the values actually passed to a function when calling it. Parameters define what types of arguments a function can accept. For example, given the function definition\n",
    "\n",
    "```\n",
    "def func(foo, bar=None, **kwargs):\n",
    "    pass\n",
    "```\n",
    "\n",
    "foo, bar and kwargs are parameters of func. However, when calling func, for example:\n",
    "\n",
    "```\n",
    "func(42, bar=314, extra=somevar)\n",
    "```\n",
    "\n",
    "the values 42, 314, and somevar are arguments.\n",
    "\n"
   ]
  },
  {
   "cell_type": "code",
   "execution_count": null,
   "id": "b545fd1f",
   "metadata": {},
   "outputs": [],
   "source": []
  }
 ],
 "metadata": {
  "kernelspec": {
   "display_name": "Python 3",
   "language": "python",
   "name": "python3"
  },
  "language_info": {
   "codemirror_mode": {
    "name": "ipython",
    "version": 3
   },
   "file_extension": ".py",
   "mimetype": "text/x-python",
   "name": "python",
   "nbconvert_exporter": "python",
   "pygments_lexer": "ipython3",
   "version": "3.8.11"
  }
 },
 "nbformat": 4,
 "nbformat_minor": 5
}
