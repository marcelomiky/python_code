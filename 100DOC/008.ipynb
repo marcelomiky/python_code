{
 "cells": [
  {
   "cell_type": "markdown",
   "id": "9f5e0220",
   "metadata": {},
   "source": [
    "# Problema array. Dado uma posição no array, retornar os valores daquela posição até o última"
   ]
  },
  {
   "cell_type": "code",
   "execution_count": 1,
   "id": "ca215e76",
   "metadata": {},
   "outputs": [],
   "source": [
    "def list_slice(l, index):\n",
    "    return l[index:]  \n",
    "    "
   ]
  },
  {
   "cell_type": "code",
   "execution_count": 2,
   "id": "8b33233c",
   "metadata": {},
   "outputs": [
    {
     "data": {
      "text/plain": [
       "[5, 6, 7]"
      ]
     },
     "execution_count": 2,
     "metadata": {},
     "output_type": "execute_result"
    }
   ],
   "source": [
    "lista = [2, 3, 4, 5, 6, 7]\n",
    "list_slice(lista, 3)"
   ]
  },
  {
   "cell_type": "code",
   "execution_count": null,
   "id": "05391063",
   "metadata": {},
   "outputs": [],
   "source": []
  },
  {
   "cell_type": "markdown",
   "id": "9112d2c5",
   "metadata": {},
   "source": [
    "# Problema Matriz"
   ]
  },
  {
   "cell_type": "markdown",
   "id": "b88a3fa6",
   "metadata": {},
   "source": [
    "Dado uma matriz MxN de números inteiros, indique uma posição na matriz e leia desta posição em diante."
   ]
  },
  {
   "cell_type": "code",
   "execution_count": 3,
   "id": "ae65a100",
   "metadata": {},
   "outputs": [],
   "source": [
    "import numpy as np\n",
    "\n",
    "# matrix with m rows and n columns\n",
    "def create_matrix(m, n, min_, max_):\n",
    "    return np.random.random_integers(min_, max_, (m, n))"
   ]
  },
  {
   "cell_type": "code",
   "execution_count": 4,
   "id": "7ddb4630",
   "metadata": {},
   "outputs": [
    {
     "name": "stderr",
     "output_type": "stream",
     "text": [
      "<ipython-input-3-0784c1115c04>:5: DeprecationWarning: This function is deprecated. Please call randint(1, 23 + 1) instead\n",
      "  return np.random.random_integers(min_, max_, (m, n))\n"
     ]
    },
    {
     "data": {
      "text/plain": [
       "array([[13,  6,  2, 11],\n",
       "       [20, 20,  9,  2],\n",
       "       [16, 17, 21,  5]])"
      ]
     },
     "execution_count": 4,
     "metadata": {},
     "output_type": "execute_result"
    }
   ],
   "source": [
    "matrix = create_matrix(3, 4, 1, 23)\n",
    "matrix"
   ]
  },
  {
   "cell_type": "code",
   "execution_count": 5,
   "id": "11184d2d",
   "metadata": {},
   "outputs": [
    {
     "data": {
      "text/plain": [
       "13"
      ]
     },
     "execution_count": 5,
     "metadata": {},
     "output_type": "execute_result"
    }
   ],
   "source": [
    "matrix[0][0]"
   ]
  },
  {
   "cell_type": "code",
   "execution_count": 6,
   "id": "f3bf5cf7",
   "metadata": {},
   "outputs": [
    {
     "data": {
      "text/plain": [
       "9"
      ]
     },
     "execution_count": 6,
     "metadata": {},
     "output_type": "execute_result"
    }
   ],
   "source": [
    "matrix[1][2]  # row, column"
   ]
  },
  {
   "cell_type": "code",
   "execution_count": 7,
   "id": "0b5bc025",
   "metadata": {},
   "outputs": [
    {
     "data": {
      "text/plain": [
       "(3, 4)"
      ]
     },
     "execution_count": 7,
     "metadata": {},
     "output_type": "execute_result"
    }
   ],
   "source": [
    "matrix.shape"
   ]
  },
  {
   "cell_type": "code",
   "execution_count": null,
   "id": "0a1ab34c",
   "metadata": {},
   "outputs": [],
   "source": []
  },
  {
   "cell_type": "code",
   "execution_count": 13,
   "id": "276fc716",
   "metadata": {},
   "outputs": [],
   "source": [
    "def slice_matrix(matrix, position):\n",
    "    \n",
    "    rows, columns = matrix.shape\n",
    "    \n",
    "    for r in range(position[0], rows):\n",
    "        for c in range(position[1], columns):\n",
    "            print(matrix[r][c])"
   ]
  },
  {
   "cell_type": "code",
   "execution_count": 14,
   "id": "a96a7661",
   "metadata": {},
   "outputs": [
    {
     "data": {
      "text/plain": [
       "array([[13,  6,  2, 11],\n",
       "       [20, 20,  9,  2],\n",
       "       [16, 17, 21,  5]])"
      ]
     },
     "execution_count": 14,
     "metadata": {},
     "output_type": "execute_result"
    }
   ],
   "source": [
    "matrix"
   ]
  },
  {
   "cell_type": "code",
   "execution_count": 15,
   "id": "88195903",
   "metadata": {},
   "outputs": [
    {
     "name": "stdout",
     "output_type": "stream",
     "text": [
      "6\n",
      "2\n",
      "11\n",
      "20\n",
      "9\n",
      "2\n",
      "17\n",
      "21\n",
      "5\n"
     ]
    }
   ],
   "source": [
    "p = (0, 1)\n",
    "slice_matrix(matrix, p)"
   ]
  },
  {
   "cell_type": "code",
   "execution_count": 18,
   "id": "c459a99a",
   "metadata": {},
   "outputs": [
    {
     "data": {
      "text/plain": [
       "array([[13,  6,  2, 11],\n",
       "       [20, 20,  9,  2],\n",
       "       [16, 17, 21,  5]])"
      ]
     },
     "execution_count": 18,
     "metadata": {},
     "output_type": "execute_result"
    }
   ],
   "source": [
    "matrix"
   ]
  },
  {
   "cell_type": "code",
   "execution_count": 97,
   "id": "71423d51",
   "metadata": {},
   "outputs": [],
   "source": [
    "def slice_matrix_2(matrix, position, flag=1):\n",
    "    \n",
    "    rows, columns = matrix.shape\n",
    "    \n",
    "    if flag == 1:  # iterate over rows\n",
    "        for col_temp in range(position[1], columns):\n",
    "            print(matrix[position[0]][col_temp], end=' ')\n",
    "        print(\"\")\n",
    "        for r in range(position[0]+1, rows):\n",
    "            for c in range(columns):\n",
    "                print(matrix[r][c], end=' ')\n",
    "            print(\"\")\n",
    "\n",
    "    elif flag == 2: # iterate over columns        \n",
    "        for row_temp in range(position[0], rows):\n",
    "            print(matrix[row_temp][position[1]])        \n",
    "        for c in range(position[1]+1, columns):\n",
    "            for r in range(rows):\n",
    "                print(matrix[r][c])"
   ]
  },
  {
   "cell_type": "code",
   "execution_count": 98,
   "id": "c0da5344",
   "metadata": {},
   "outputs": [
    {
     "name": "stdout",
     "output_type": "stream",
     "text": [
      "6 2 11 \n",
      "20 20 9 2 \n",
      "16 17 21 5 \n"
     ]
    }
   ],
   "source": [
    "p = (0, 1)\n",
    "\n",
    "slice_matrix_2(matrix, p)"
   ]
  },
  {
   "cell_type": "code",
   "execution_count": 99,
   "id": "68054075",
   "metadata": {},
   "outputs": [
    {
     "name": "stdout",
     "output_type": "stream",
     "text": [
      "20\n",
      "17\n",
      "2\n",
      "9\n",
      "21\n",
      "11\n",
      "2\n",
      "5\n"
     ]
    }
   ],
   "source": [
    "p = (1, 1)\n",
    "\n",
    "slice_matrix_2(matrix, p, 2)"
   ]
  },
  {
   "cell_type": "code",
   "execution_count": null,
   "id": "6b5293d5",
   "metadata": {},
   "outputs": [],
   "source": []
  },
  {
   "cell_type": "markdown",
   "id": "7457c8c6",
   "metadata": {},
   "source": [
    "# Imprimir Triângulos"
   ]
  },
  {
   "cell_type": "code",
   "execution_count": 218,
   "id": "20f535bb",
   "metadata": {},
   "outputs": [],
   "source": [
    "def print_triangles(x):\n",
    "    \n",
    "    \"\"\"\n",
    "    x: triangle height\n",
    "    \"\"\"\n",
    "    \n",
    "    k = x - 1  # number of spaces\n",
    "\n",
    "    for i in range(x):\n",
    "        for j in range(k):\n",
    "            print(end = \" \")\n",
    "        k = k - 1\n",
    "        \n",
    "        for j in range(i+1):\n",
    "            \n",
    "            print(\"* \", end=\"\")\n",
    "        \n",
    "        print(\"\\r\")"
   ]
  },
  {
   "cell_type": "code",
   "execution_count": 219,
   "id": "93aa3b16",
   "metadata": {},
   "outputs": [
    {
     "name": "stdout",
     "output_type": "stream",
     "text": [
      "    * \r\n",
      "   * * \r\n",
      "  * * * \r\n",
      " * * * * \r\n",
      "* * * * * \r\n"
     ]
    }
   ],
   "source": [
    "print_triangles(5)"
   ]
  },
  {
   "cell_type": "code",
   "execution_count": null,
   "id": "cc6e97de",
   "metadata": {},
   "outputs": [],
   "source": []
  },
  {
   "cell_type": "markdown",
   "id": "eac08aaf",
   "metadata": {},
   "source": [
    "# Imprimir Losangos"
   ]
  },
  {
   "cell_type": "code",
   "execution_count": 277,
   "id": "bd9003bc",
   "metadata": {},
   "outputs": [],
   "source": [
    "def print_diamond(x):    \n",
    "    for i in range(x):\n",
    "        print(\" \" * (x - i), \"*\" * (i * 2 + 1))\n",
    "\n",
    "    for i in range(x-2, -1, -1):\n",
    "        print(\" \" * (x - i), \"*\" * (i * 2 + 1))    "
   ]
  },
  {
   "cell_type": "code",
   "execution_count": 278,
   "id": "c03ad3c4",
   "metadata": {
    "scrolled": true
   },
   "outputs": [
    {
     "name": "stdout",
     "output_type": "stream",
     "text": [
      "      *\n",
      "     ***\n",
      "    *****\n",
      "   *******\n",
      "  *********\n",
      "   *******\n",
      "    *****\n",
      "     ***\n",
      "      *\n"
     ]
    }
   ],
   "source": [
    "print_diamond(5)"
   ]
  },
  {
   "cell_type": "code",
   "execution_count": null,
   "id": "3d68d4bd",
   "metadata": {},
   "outputs": [],
   "source": []
  }
 ],
 "metadata": {
  "kernelspec": {
   "display_name": "Python 3",
   "language": "python",
   "name": "python3"
  },
  "language_info": {
   "codemirror_mode": {
    "name": "ipython",
    "version": 3
   },
   "file_extension": ".py",
   "mimetype": "text/x-python",
   "name": "python",
   "nbconvert_exporter": "python",
   "pygments_lexer": "ipython3",
   "version": "3.8.11"
  }
 },
 "nbformat": 4,
 "nbformat_minor": 5
}
