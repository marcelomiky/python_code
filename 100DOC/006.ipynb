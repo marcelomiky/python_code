{
 "cells": [
  {
   "cell_type": "markdown",
   "id": "9112d2c5",
   "metadata": {},
   "source": [
    "# Problema Matriz"
   ]
  },
  {
   "cell_type": "markdown",
   "id": "b88a3fa6",
   "metadata": {},
   "source": [
    "Dado uma matriz MxN de números inteiros, busque um número na matriz toda e retorne a posição deste elemento. Retorne também os vizinhos deste elemento."
   ]
  },
  {
   "cell_type": "code",
   "execution_count": 1,
   "id": "ae65a100",
   "metadata": {},
   "outputs": [],
   "source": [
    "import numpy as np\n",
    "\n",
    "# matrix with m rows and n columns\n",
    "def create_matrix(m, n, min_, max_):\n",
    "    return np.random.random_integers(min_, max_, (m, n))"
   ]
  },
  {
   "cell_type": "code",
   "execution_count": 2,
   "id": "7ddb4630",
   "metadata": {},
   "outputs": [
    {
     "name": "stderr",
     "output_type": "stream",
     "text": [
      "<ipython-input-1-0784c1115c04>:5: DeprecationWarning: This function is deprecated. Please call randint(1, 23 + 1) instead\n",
      "  return np.random.random_integers(min_, max_, (m, n))\n"
     ]
    },
    {
     "data": {
      "text/plain": [
       "array([[21,  2,  6, 12],\n",
       "       [ 8,  2, 18, 21],\n",
       "       [ 5,  5, 17,  8]])"
      ]
     },
     "execution_count": 2,
     "metadata": {},
     "output_type": "execute_result"
    }
   ],
   "source": [
    "matrix = create_matrix(3, 4, 1, 23)\n",
    "matrix"
   ]
  },
  {
   "cell_type": "code",
   "execution_count": 20,
   "id": "11184d2d",
   "metadata": {},
   "outputs": [
    {
     "data": {
      "text/plain": [
       "21"
      ]
     },
     "execution_count": 20,
     "metadata": {},
     "output_type": "execute_result"
    }
   ],
   "source": [
    "matrix[0][0]"
   ]
  },
  {
   "cell_type": "code",
   "execution_count": 22,
   "id": "f3bf5cf7",
   "metadata": {},
   "outputs": [
    {
     "data": {
      "text/plain": [
       "18"
      ]
     },
     "execution_count": 22,
     "metadata": {},
     "output_type": "execute_result"
    }
   ],
   "source": [
    "matrix[1][2]  # row, column"
   ]
  },
  {
   "cell_type": "code",
   "execution_count": 23,
   "id": "0b5bc025",
   "metadata": {},
   "outputs": [
    {
     "data": {
      "text/plain": [
       "(3, 4)"
      ]
     },
     "execution_count": 23,
     "metadata": {},
     "output_type": "execute_result"
    }
   ],
   "source": [
    "matrix.shape"
   ]
  },
  {
   "cell_type": "code",
   "execution_count": null,
   "id": "0a1ab34c",
   "metadata": {},
   "outputs": [],
   "source": []
  },
  {
   "cell_type": "code",
   "execution_count": 24,
   "id": "23fee037",
   "metadata": {},
   "outputs": [],
   "source": [
    "def search_element(x, matrix):\n",
    "    rows, columns = matrix.shape\n",
    "    list_index_element = list()\n",
    "    \n",
    "    for r in range(rows):\n",
    "        for c in range(columns):\n",
    "            if x == matrix[r][c]:\n",
    "                list_index_element.append((r, c))\n",
    "    \n",
    "    return list_index_element"
   ]
  },
  {
   "cell_type": "code",
   "execution_count": 25,
   "id": "2080e756",
   "metadata": {},
   "outputs": [
    {
     "data": {
      "text/plain": [
       "[(0, 1), (1, 1)]"
      ]
     },
     "execution_count": 25,
     "metadata": {},
     "output_type": "execute_result"
    }
   ],
   "source": [
    "search_element(2, matrix)"
   ]
  },
  {
   "cell_type": "code",
   "execution_count": 26,
   "id": "c4802388",
   "metadata": {},
   "outputs": [
    {
     "data": {
      "text/plain": [
       "[(1, 0), (2, 3)]"
      ]
     },
     "execution_count": 26,
     "metadata": {},
     "output_type": "execute_result"
    }
   ],
   "source": [
    "search_element(8, matrix)"
   ]
  },
  {
   "cell_type": "code",
   "execution_count": null,
   "id": "6cb2f36b",
   "metadata": {},
   "outputs": [],
   "source": []
  },
  {
   "cell_type": "code",
   "execution_count": 27,
   "id": "71f9dffa",
   "metadata": {},
   "outputs": [],
   "source": [
    "def return_neighbors(x, m, n, matrix):\n",
    "    \n",
    "    list_index_elements = search_element(x, matrix)\n",
    "    \n",
    "    list_neighbors = []\n",
    "    \n",
    "    for i in list_index_elements:\n",
    "        \n",
    "        # Upper\n",
    "        if i[0]-1 >= 0: \n",
    "            list_neighbors.append((i[0]-1, i[1]))\n",
    "        else:\n",
    "            list_neighbors.append(0)\n",
    "        \n",
    "        # Down\n",
    "        if i[0]+1 <= m-1: \n",
    "            list_neighbors.append((i[0]+1, i[1]))\n",
    "        else:\n",
    "            list_neighbors.append(0)\n",
    "        \n",
    "        # Right\n",
    "        if i[1]-1 >= 0:\n",
    "            list_neighbors.append((i[0], i[1]-1))\n",
    "        else:\n",
    "            list_neighbors.append(0)\n",
    "        \n",
    "        # Left\n",
    "        if i[1]+1 <= n-1:\n",
    "            list_neighbors.append((i[0], i[1]+1))\n",
    "        else:\n",
    "            list_neighbors.append(0)\n",
    "    \n",
    "    return list_index_elements, list_neighbors # upper, down, left, right"
   ]
  },
  {
   "cell_type": "code",
   "execution_count": 28,
   "id": "5f15eb6b",
   "metadata": {},
   "outputs": [
    {
     "data": {
      "text/plain": [
       "([(0, 1), (1, 1)], [0, (1, 1), (0, 0), (0, 2), (0, 1), (2, 1), (1, 0), (1, 2)])"
      ]
     },
     "execution_count": 28,
     "metadata": {},
     "output_type": "execute_result"
    }
   ],
   "source": [
    "x = 2\n",
    "m = 3\n",
    "n = 4\n",
    "\n",
    "return_neighbors(x, m, n, matrix)"
   ]
  },
  {
   "cell_type": "code",
   "execution_count": 29,
   "id": "43cbd54b",
   "metadata": {},
   "outputs": [
    {
     "data": {
      "text/plain": [
       "([(1, 0), (2, 3)], [(0, 0), (2, 0), 0, (1, 1), (1, 3), 0, (2, 2), 0])"
      ]
     },
     "execution_count": 29,
     "metadata": {},
     "output_type": "execute_result"
    }
   ],
   "source": [
    "x = 8\n",
    "m = 3\n",
    "n = 4\n",
    "\n",
    "return_neighbors(x, m, n, matrix)"
   ]
  },
  {
   "cell_type": "code",
   "execution_count": 30,
   "id": "eeb4d1cf",
   "metadata": {},
   "outputs": [
    {
     "data": {
      "text/plain": [
       "([(0, 2)], [0, (1, 2), (0, 1), (0, 3)])"
      ]
     },
     "execution_count": 30,
     "metadata": {},
     "output_type": "execute_result"
    }
   ],
   "source": [
    "x = 6\n",
    "m = 3\n",
    "n = 4\n",
    "\n",
    "return_neighbors(x, m, n, matrix)"
   ]
  },
  {
   "cell_type": "code",
   "execution_count": 32,
   "id": "1b2b0462",
   "metadata": {},
   "outputs": [
    {
     "data": {
      "text/plain": [
       "([(2, 2)], [(1, 2), 0, (2, 1), (2, 3)])"
      ]
     },
     "execution_count": 32,
     "metadata": {},
     "output_type": "execute_result"
    }
   ],
   "source": [
    "x = 17\n",
    "\n",
    "return_neighbors(x, m, n, matrix)"
   ]
  },
  {
   "cell_type": "code",
   "execution_count": 35,
   "id": "79c3898b",
   "metadata": {},
   "outputs": [],
   "source": [
    "list_index, list_neighbors = return_neighbors(12, m, n, matrix)"
   ]
  },
  {
   "cell_type": "code",
   "execution_count": 36,
   "id": "ca2f67bd",
   "metadata": {},
   "outputs": [
    {
     "data": {
      "text/plain": [
       "[(0, 3)]"
      ]
     },
     "execution_count": 36,
     "metadata": {},
     "output_type": "execute_result"
    }
   ],
   "source": [
    "list_index"
   ]
  },
  {
   "cell_type": "code",
   "execution_count": 37,
   "id": "6efe5f08",
   "metadata": {},
   "outputs": [
    {
     "data": {
      "text/plain": [
       "[0, (1, 3), (0, 2), 0]"
      ]
     },
     "execution_count": 37,
     "metadata": {},
     "output_type": "execute_result"
    }
   ],
   "source": [
    "list_neighbors"
   ]
  },
  {
   "cell_type": "code",
   "execution_count": null,
   "id": "65c2e243",
   "metadata": {},
   "outputs": [],
   "source": []
  },
  {
   "cell_type": "code",
   "execution_count": 38,
   "id": "2d69179d",
   "metadata": {},
   "outputs": [],
   "source": [
    "def find_element_and_print(list_index, list_neighbors, matrix):\n",
    "\n",
    "    for i in list_index:\n",
    "        print(\"Position:\", i)\n",
    "        counter = 0\n",
    "        for j in list_neighbors:\n",
    "            if j == 0:\n",
    "                counter += 1\n",
    "            else:\n",
    "                if counter == 0:\n",
    "                    print(\"Upper:\", matrix[j[0], j[1]])\n",
    "                if counter == 1:\n",
    "                    print(\"Down:\", matrix[j[0], j[1]])\n",
    "                if counter == 2:\n",
    "                    print(\"Right:\", matrix[j[0], j[1]])\n",
    "                if counter == 3:\n",
    "                    print(\"Left:\", matrix[j[0], j[1]])\n",
    "        counter = 0"
   ]
  },
  {
   "cell_type": "code",
   "execution_count": 39,
   "id": "97f4f1dc",
   "metadata": {},
   "outputs": [
    {
     "name": "stdout",
     "output_type": "stream",
     "text": [
      "Position: (0, 3)\n",
      "Down: 21\n",
      "Down: 6\n"
     ]
    }
   ],
   "source": [
    "find_element_and_print(list_index, list_neighbors, matrix)"
   ]
  },
  {
   "cell_type": "code",
   "execution_count": null,
   "id": "9fa8f89c",
   "metadata": {},
   "outputs": [],
   "source": []
  },
  {
   "cell_type": "code",
   "execution_count": null,
   "id": "2633a484",
   "metadata": {},
   "outputs": [],
   "source": []
  },
  {
   "cell_type": "code",
   "execution_count": null,
   "id": "63238f19",
   "metadata": {},
   "outputs": [],
   "source": []
  },
  {
   "cell_type": "code",
   "execution_count": null,
   "id": "381c5264",
   "metadata": {},
   "outputs": [],
   "source": []
  },
  {
   "cell_type": "code",
   "execution_count": null,
   "id": "7ea5e3ff",
   "metadata": {},
   "outputs": [],
   "source": []
  },
  {
   "cell_type": "markdown",
   "id": "475e0090",
   "metadata": {},
   "source": [
    "Crie um programa que lê um número X e retorna os vizinhos dele à esquerda, acima, à direita e abaixo de X, quando houver. Exemplo:"
   ]
  },
  {
   "cell_type": "markdown",
   "id": "513c9786",
   "metadata": {},
   "source": [
    "10 8 15 12\\\n",
    "21 11 23 8\\\n",
    "14 5 13 9\n",
    "\n",
    "Busca: 8\n",
    "\n",
    "Output: \n",
    "\n",
    "Position 0,1:\\\n",
    "Left: 10\\\n",
    "Right: 15\\\n",
    "Down: 11\n",
    "\n",
    "Position 1,3:\\\n",
    "Left: 23\\\n",
    "Up: 12\\\n",
    "Down: 19"
   ]
  },
  {
   "cell_type": "code",
   "execution_count": null,
   "id": "276fc716",
   "metadata": {},
   "outputs": [],
   "source": []
  }
 ],
 "metadata": {
  "kernelspec": {
   "display_name": "Python 3",
   "language": "python",
   "name": "python3"
  },
  "language_info": {
   "codemirror_mode": {
    "name": "ipython",
    "version": 3
   },
   "file_extension": ".py",
   "mimetype": "text/x-python",
   "name": "python",
   "nbconvert_exporter": "python",
   "pygments_lexer": "ipython3",
   "version": "3.8.11"
  }
 },
 "nbformat": 4,
 "nbformat_minor": 5
}
